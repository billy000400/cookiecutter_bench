{
 "cells": [
  {
   "cell_type": "code",
   "execution_count": 1,
   "metadata": {},
   "outputs": [],
   "source": [
    "import sys\n",
    "import urllib.request\n",
    "from pathlib import Path\n",
    "from tqdm import tqdm\n",
    "import numpy as np\n",
    "import uproot\n",
    "import awkward as ak\n",
    "import h5py"
   ]
  },
  {
   "cell_type": "code",
   "execution_count": 2,
   "metadata": {},
   "outputs": [],
   "source": [
    "# prepare the dir for raw data\n",
    "cwd = Path.cwd()\n",
    "data_raw_dir = cwd.joinpath(\"test_data/raw\")\n",
    "data_raw_dir.mkdir(parents=True, exist_ok=True)\n",
    "\n",
    "# get the list of root files\n",
    "trainList_url = \"http://opendata.cern.ch/record/12102/files/HiggsToBBNTuple_HiggsToBB_QCD_RunII_13TeV_MC_test_root_file_index.txt\"\n",
    "testList_url = \"http://opendata.cern.ch/record/12102/files/HiggsToBBNTuple_HiggsToBB_QCD_RunII_13TeV_MC_train_root_file_index.txt\"\n",
    "trainList = urllib.request.urlopen(trainList_url).read().decode('utf-8').split(\"\\n\")\n",
    "testList = urllib.request.urlopen(testList_url).read().decode('utf-8').split(\"\\n\")\n",
    "# rm empty entry\n",
    "trainList = [url for url in trainList if url]\n",
    "testList = [url for url in testList if url]\n"
   ]
  },
  {
   "cell_type": "code",
   "execution_count": 3,
   "metadata": {},
   "outputs": [],
   "source": [
    "url = testList[0]"
   ]
  },
  {
   "cell_type": "code",
   "execution_count": 4,
   "metadata": {
    "scrolled": false
   },
   "outputs": [],
   "source": [
    "# # prepare target file\n",
    "# h5_name = url.rsplit('/', 1)[1].split('.')[0]+'.h5'\n",
    "# h5_path = data_raw_dir.joinpath(h5_name)  \n",
    "# h5_f = h5py.File(str(h5_path), 'w')\n",
    "\n",
    "# # open and read root files online\n",
    "# root_f = uproot.open(url)\n",
    "# tree = root_f['deepntuplizer/tree']\n",
    "# keys = tree.keys()\n",
    "\n",
    "# # prepare number cuts on pfcand, track, and sv\n",
    "# ncuts = {}\n",
    "# ncuts['pfcand']=100\n",
    "# ncuts['track']=60\n",
    "# ncuts['sv']=5\n",
    "\n",
    "# # fill branches into dataset\n",
    "# for k in keys:\n",
    "#     try:\n",
    "#         # get maximum number\n",
    "#         arr = tree[k].array(library='ak')\n",
    "#         if arr.ndim == 1:\n",
    "#             h5_f.create_dataset(k, data=arr)\n",
    "#         else:\n",
    "#             maxobj = ak.max(ak.num(arr, axis=1))\n",
    "#             special_keys = ncuts.keys()\n",
    "#             for sk in special_keys:\n",
    "#                 if k in sk:\n",
    "#                     maxobj = ncuts[sk]\n",
    "#             # zero padding\n",
    "#             arr = ak.pad_none(arr, target=maxobj, clip=True)\n",
    "#             arr = ak.fill_none(arr, 0).to_numpy().astype(np.float16)\n",
    "#             h5_f.create_dataset(k, data=arr)\n",
    "#     except Exception as e:\n",
    "#         print(arr.ndim)\n",
    "#         print(arr.dtype)\n",
    "#         print(f\"{k} has an error {e}\")\n",
    "        \n",
    "# # close the file\n",
    "# h5_f.close()"
   ]
  },
  {
   "cell_type": "markdown",
   "metadata": {},
   "source": [
    "New design after adopting the subgroups"
   ]
  },
  {
   "cell_type": "code",
   "execution_count": 5,
   "metadata": {},
   "outputs": [],
   "source": [
    "ftrs_0 = ['fj_jetNTracks',\n",
    "                          'fj_nSV',\n",
    "                          'fj_tau0_trackEtaRel_0',\n",
    "                          'fj_tau0_trackEtaRel_1',\n",
    "                          'fj_tau0_trackEtaRel_2',\n",
    "                          'fj_tau1_trackEtaRel_0',\n",
    "                          'fj_tau1_trackEtaRel_1',\n",
    "                          'fj_tau1_trackEtaRel_2',\n",
    "                          'fj_tau_flightDistance2dSig_0',\n",
    "                          'fj_tau_flightDistance2dSig_1',\n",
    "                          'fj_tau_vertexDeltaR_0',\n",
    "                          'fj_tau_vertexEnergyRatio_0',\n",
    "                          'fj_tau_vertexEnergyRatio_1',\n",
    "                          'fj_tau_vertexMass_0',\n",
    "                          'fj_tau_vertexMass_1',\n",
    "                          'fj_trackSip2dSigAboveBottom_0',\n",
    "                          'fj_trackSip2dSigAboveBottom_1',\n",
    "                          'fj_trackSip2dSigAboveCharm_0',\n",
    "                          'fj_trackSipdSig_0',\n",
    "                          'fj_trackSipdSig_0_0',\n",
    "                          'fj_trackSipdSig_0_1',\n",
    "                          'fj_trackSipdSig_1',\n",
    "                          'fj_trackSipdSig_1_0',\n",
    "                          'fj_trackSipdSig_1_1',\n",
    "                          'fj_trackSipdSig_2',\n",
    "                          'fj_trackSipdSig_3',\n",
    "                          'fj_z_ratio'\n",
    "                          ]\n",
    "ftrs_1 = ['pfcand_ptrel',\n",
    "                          'pfcand_erel',\n",
    "                          'pfcand_phirel',\n",
    "                          'pfcand_etarel',\n",
    "                          'pfcand_deltaR',\n",
    "                          'pfcand_puppiw',\n",
    "                          'pfcand_drminsv',\n",
    "                          'pfcand_drsubjet1',\n",
    "                          'pfcand_drsubjet2',\n",
    "                          'pfcand_hcalFrac']\n",
    "ftrs_2 = ['track_ptrel',     \n",
    "                          'track_erel',     \n",
    "                          'track_phirel',     \n",
    "                          'track_etarel',     \n",
    "                          'track_deltaR',\n",
    "                          'track_drminsv',     \n",
    "                          'track_drsubjet1',     \n",
    "                          'track_drsubjet2',\n",
    "                          'track_dz',     \n",
    "                          'track_dzsig',     \n",
    "                          'track_dxy',     \n",
    "                          'track_dxysig',     \n",
    "                          'track_normchi2',     \n",
    "                          'track_quality',     \n",
    "                          'track_dptdpt',     \n",
    "                          'track_detadeta',     \n",
    "                          'track_dphidphi',     \n",
    "                          'track_dxydxy',     \n",
    "                          'track_dzdz',     \n",
    "                          'track_dxydz',     \n",
    "                          'track_dphidxy',     \n",
    "                          'track_dlambdadz',     \n",
    "                          'trackBTag_EtaRel',     \n",
    "                          'trackBTag_PtRatio',     \n",
    "                          'trackBTag_PParRatio',     \n",
    "                          'trackBTag_Sip2dVal',     \n",
    "                          'trackBTag_Sip2dSig',     \n",
    "                          'trackBTag_Sip3dVal',     \n",
    "                          'trackBTag_Sip3dSig',     \n",
    "                          'trackBTag_JetDistVal']\n",
    "ftrs_3 = ['sv_ptrel',\n",
    "                          'sv_erel',\n",
    "                          'sv_phirel',\n",
    "                          'sv_etarel',\n",
    "                          'sv_deltaR',\n",
    "                          'sv_pt',\n",
    "                          'sv_mass',\n",
    "                          'sv_ntracks',\n",
    "                          'sv_normchi2',\n",
    "                          'sv_dxy',\n",
    "                          'sv_dxysig',\n",
    "                          'sv_d3d',\n",
    "                          'sv_d3dsig',\n",
    "                          'sv_costhetasvpv']"
   ]
  },
  {
   "cell_type": "code",
   "execution_count": 6,
   "metadata": {},
   "outputs": [],
   "source": [
    "spectators = ['fj_pt',\n",
    "                          'fj_eta',\n",
    "                          'fj_sdmass',\n",
    "                          'fj_n_sdsubjets',\n",
    "                          'fj_doubleb',\n",
    "                          'fj_tau21',\n",
    "                          'fj_tau32',\n",
    "                          'npv',\n",
    "                          'npfcands',\n",
    "                          'ntracks',\n",
    "                          'nsv'\n",
    "                      ]"
   ]
  },
  {
   "cell_type": "code",
   "execution_count": 7,
   "metadata": {},
   "outputs": [],
   "source": [
    "targets = ['sample_isQCD','fj_isQCD','fj_isH']"
   ]
  },
  {
   "cell_type": "code",
   "execution_count": 8,
   "metadata": {},
   "outputs": [],
   "source": [
    "test_dir = data_raw_dir.joinpath('test')\n",
    "test_dir.mkdir(exist_ok=True, parents=True)\n",
    "h5_path = test_dir.joinpath('test.h5')\n",
    "h5_f = h5py.File(h5_path, 'w')\n",
    "training_data = h5_f.create_group(\"training_subgroup\")\n",
    "target_data = h5_f.create_group(\"target_subgroup\")\n",
    "spec_data = h5_f.create_group(\"spectator_subgroup\")"
   ]
  },
  {
   "cell_type": "code",
   "execution_count": 9,
   "metadata": {},
   "outputs": [
    {
     "name": "stdout",
     "output_type": "stream",
     "text": [
      "name                 | typename                 | interpretation                \n",
      "---------------------+--------------------------+-------------------------------\n",
      "Delta_gen_pt         | float                    | AsDtype('>f4')\n",
      "event_no             | uint32_t                 | AsDtype('>u4')\n",
      "gen_pt               | float                    | AsDtype('>f4')\n",
      "isB                  | int32_t                  | AsDtype('>i4')\n",
      "isBB                 | int32_t                  | AsDtype('>i4')\n",
      "isC                  | int32_t                  | AsDtype('>i4')\n",
      "isG                  | int32_t                  | AsDtype('>i4')\n",
      "isLeptonicB          | int32_t                  | AsDtype('>i4')\n",
      "isLeptonicB_C        | int32_t                  | AsDtype('>i4')\n",
      "isS                  | int32_t                  | AsDtype('>i4')\n",
      "isUD                 | int32_t                  | AsDtype('>i4')\n",
      "isUndefined          | int32_t                  | AsDtype('>i4')\n",
      "jet_corr_pt          | float                    | AsDtype('>f4')\n",
      "jet_eta              | float                    | AsDtype('>f4')\n",
      "jet_looseId          | float                    | AsDtype('>f4')\n",
      "jet_no               | uint32_t                 | AsDtype('>u4')\n",
      "jet_phi              | float                    | AsDtype('>f4')\n",
      "jet_pt               | float                    | AsDtype('>f4')\n",
      "jet_tightId          | float                    | AsDtype('>f4')\n",
      "npv                  | float                    | AsDtype('>f4')\n",
      "ntrueInt             | float                    | AsDtype('>f4')\n",
      "pfBoostedDoubleSe... | float                    | AsDtype('>f4')\n",
      "pfCombinedInclusi... | float                    | AsDtype('>f4')\n",
      "pfCombinedMVAV2BJ... | float                    | AsDtype('>f4')\n",
      "pfDeepCSVJetTags_... | float                    | AsDtype('>f4')\n",
      "pfDeepCSVJetTags_... | float                    | AsDtype('>f4')\n",
      "pfDeepCSVJetTags_... | float                    | AsDtype('>f4')\n",
      "pfDeepCSVJetTags_... | float                    | AsDtype('>f4')\n",
      "pfDeepCSVJetTags_... | float                    | AsDtype('>f4')\n",
      "pfJetBProbability... | float                    | AsDtype('>f4')\n",
      "pfJetProbabilityB... | float                    | AsDtype('>f4')\n",
      "rho                  | float                    | AsDtype('>f4')\n",
      "softPFElectronBJe... | float                    | AsDtype('>f4')\n",
      "softPFMuonBJetTags   | float                    | AsDtype('>f4')\n",
      "fj_doubleb           | float                    | AsDtype('>f4')\n",
      "fj_eta               | float                    | AsDtype('>f4')\n",
      "fj_gen_eta           | float                    | AsDtype('>f4')\n",
      "fj_gen_pt            | float                    | AsDtype('>f4')\n",
      "fj_isBB              | int32_t                  | AsDtype('>i4')\n",
      "fj_isH               | int32_t                  | AsDtype('>i4')\n",
      "fj_isNonBB           | int32_t                  | AsDtype('>i4')\n",
      "fj_isQCD             | int32_t                  | AsDtype('>i4')\n",
      "fj_isTop             | int32_t                  | AsDtype('>i4')\n",
      "fj_isW               | int32_t                  | AsDtype('>i4')\n",
      "fj_isZ               | int32_t                  | AsDtype('>i4')\n",
      "fj_jetNTracks        | float                    | AsDtype('>f4')\n",
      "fj_label             | int32_t                  | AsDtype('>i4')\n",
      "fj_labelJMAR         | int32_t                  | AsDtype('>i4')\n",
      "fj_labelLegacy       | int32_t                  | AsDtype('>i4')\n",
      "fj_mass              | float                    | AsDtype('>f4')\n",
      "fj_nSV               | float                    | AsDtype('>f4')\n",
      "fj_n_sdsubjets       | float                    | AsDtype('>f4')\n",
      "fj_nbHadrons         | int32_t                  | AsDtype('>i4')\n",
      "fj_ncHadrons         | int32_t                  | AsDtype('>i4')\n",
      "fj_phi               | float                    | AsDtype('>f4')\n",
      "fj_pt                | float                    | AsDtype('>f4')\n",
      "fj_ptDR              | float                    | AsDtype('>f4')\n",
      "fj_relptdiff         | float                    | AsDtype('>f4')\n",
      "fj_sdmass            | float                    | AsDtype('>f4')\n",
      "fj_sdn2              | float                    | AsDtype('>f4')\n",
      "fj_sdsj1_axis1       | float                    | AsDtype('>f4')\n",
      "fj_sdsj1_axis2       | float                    | AsDtype('>f4')\n",
      "fj_sdsj1_csv         | float                    | AsDtype('>f4')\n",
      "fj_sdsj1_eta         | float                    | AsDtype('>f4')\n",
      "fj_sdsj1_mass        | float                    | AsDtype('>f4')\n",
      "fj_sdsj1_mult        | float                    | AsDtype('>f4')\n",
      "fj_sdsj1_phi         | float                    | AsDtype('>f4')\n",
      "fj_sdsj1_pt          | float                    | AsDtype('>f4')\n",
      "fj_sdsj1_ptD         | float                    | AsDtype('>f4')\n",
      "fj_sdsj2_axis1       | float                    | AsDtype('>f4')\n",
      "fj_sdsj2_axis2       | float                    | AsDtype('>f4')\n",
      "fj_sdsj2_csv         | float                    | AsDtype('>f4')\n",
      "fj_sdsj2_eta         | float                    | AsDtype('>f4')\n",
      "fj_sdsj2_mass        | float                    | AsDtype('>f4')\n",
      "fj_sdsj2_mult        | float                    | AsDtype('>f4')\n",
      "fj_sdsj2_phi         | float                    | AsDtype('>f4')\n",
      "fj_sdsj2_pt          | float                    | AsDtype('>f4')\n",
      "fj_sdsj2_ptD         | float                    | AsDtype('>f4')\n",
      "fj_tau0_trackEtaR... | float                    | AsDtype('>f4')\n",
      "fj_tau0_trackEtaR... | float                    | AsDtype('>f4')\n",
      "fj_tau0_trackEtaR... | float                    | AsDtype('>f4')\n",
      "fj_tau1              | float                    | AsDtype('>f4')\n",
      "fj_tau1_trackEtaR... | float                    | AsDtype('>f4')\n",
      "fj_tau1_trackEtaR... | float                    | AsDtype('>f4')\n",
      "fj_tau1_trackEtaR... | float                    | AsDtype('>f4')\n",
      "fj_tau2              | float                    | AsDtype('>f4')\n",
      "fj_tau21             | float                    | AsDtype('>f4')\n",
      "fj_tau3              | float                    | AsDtype('>f4')\n",
      "fj_tau32             | float                    | AsDtype('>f4')\n",
      "fj_tau_flightDist... | float                    | AsDtype('>f4')\n",
      "fj_tau_flightDist... | float                    | AsDtype('>f4')\n",
      "fj_tau_vertexDelt... | float                    | AsDtype('>f4')\n",
      "fj_tau_vertexEner... | float                    | AsDtype('>f4')\n",
      "fj_tau_vertexEner... | float                    | AsDtype('>f4')\n",
      "fj_tau_vertexMass_0  | float                    | AsDtype('>f4')\n",
      "fj_tau_vertexMass_1  | float                    | AsDtype('>f4')\n",
      "fj_trackSip2dSigA... | float                    | AsDtype('>f4')\n",
      "fj_trackSip2dSigA... | float                    | AsDtype('>f4')\n",
      "fj_trackSip2dSigA... | float                    | AsDtype('>f4')\n",
      "fj_trackSipdSig_0    | float                    | AsDtype('>f4')\n",
      "fj_trackSipdSig_0_0  | float                    | AsDtype('>f4')\n",
      "fj_trackSipdSig_0_1  | float                    | AsDtype('>f4')\n",
      "fj_trackSipdSig_1    | float                    | AsDtype('>f4')\n",
      "fj_trackSipdSig_1_0  | float                    | AsDtype('>f4')\n",
      "fj_trackSipdSig_1_1  | float                    | AsDtype('>f4')\n",
      "fj_trackSipdSig_2    | float                    | AsDtype('>f4')\n",
      "fj_trackSipdSig_3    | float                    | AsDtype('>f4')\n",
      "fj_z_ratio           | float                    | AsDtype('>f4')\n",
      "label_H_bb           | int32_t                  | AsDtype('>i4')\n",
      "label_H_cc           | int32_t                  | AsDtype('>i4')\n",
      "label_H_qqqq         | int32_t                  | AsDtype('>i4')\n",
      "label_QCD_b          | int32_t                  | AsDtype('>i4')\n",
      "label_QCD_bb         | int32_t                  | AsDtype('>i4')\n",
      "label_QCD_c          | int32_t                  | AsDtype('>i4')\n",
      "label_QCD_cc         | int32_t                  | AsDtype('>i4')\n",
      "label_QCD_others     | int32_t                  | AsDtype('>i4')\n",
      "label_Top_bc         | int32_t                  | AsDtype('>i4')\n",
      "label_Top_bcq        | int32_t                  | AsDtype('>i4')\n",
      "label_Top_bq         | int32_t                  | AsDtype('>i4')\n",
      "label_Top_bqq        | int32_t                  | AsDtype('>i4')\n",
      "label_W_cq           | int32_t                  | AsDtype('>i4')\n",
      "label_W_qq           | int32_t                  | AsDtype('>i4')\n",
      "label_Z_bb           | int32_t                  | AsDtype('>i4')\n",
      "label_Z_cc           | int32_t                  | AsDtype('>i4')\n",
      "label_Z_qq           | int32_t                  | AsDtype('>i4')\n",
      "sample_isQCD         | int32_t                  | AsDtype('>i4')\n",
      "n_pfcands            | int32_t                  | AsDtype('>i4')\n",
      "npfcands             | float                    | AsDtype('>f4')\n",
      "pfcand_VTX_ass       | std::vector<float>       | AsJagged(AsDtype('>f4'), he...\n",
      "pfcand_charge        | std::vector<float>       | AsJagged(AsDtype('>f4'), he...\n",
      "pfcand_deltaR        | std::vector<float>       | AsJagged(AsDtype('>f4'), he...\n",
      "pfcand_drminsv       | std::vector<float>       | AsJagged(AsDtype('>f4'), he...\n",
      "pfcand_drsubjet1     | std::vector<float>       | AsJagged(AsDtype('>f4'), he...\n",
      "pfcand_drsubjet2     | std::vector<float>       | AsJagged(AsDtype('>f4'), he...\n",
      "pfcand_dxy           | std::vector<float>       | AsJagged(AsDtype('>f4'), he...\n",
      "pfcand_dxysig        | std::vector<float>       | AsJagged(AsDtype('>f4'), he...\n",
      "pfcand_dz            | std::vector<float>       | AsJagged(AsDtype('>f4'), he...\n",
      "pfcand_dzsig         | std::vector<float>       | AsJagged(AsDtype('>f4'), he...\n",
      "pfcand_erel          | std::vector<float>       | AsJagged(AsDtype('>f4'), he...\n",
      "pfcand_etarel        | std::vector<float>       | AsJagged(AsDtype('>f4'), he...\n",
      "pfcand_fromPV        | std::vector<float>       | AsJagged(AsDtype('>f4'), he...\n",
      "pfcand_hcalFrac      | std::vector<float>       | AsJagged(AsDtype('>f4'), he...\n",
      "pfcand_isChargedHad  | std::vector<float>       | AsJagged(AsDtype('>f4'), he...\n",
      "pfcand_isEl          | std::vector<float>       | AsJagged(AsDtype('>f4'), he...\n",
      "pfcand_isGamma       | std::vector<float>       | AsJagged(AsDtype('>f4'), he...\n",
      "pfcand_isMu          | std::vector<float>       | AsJagged(AsDtype('>f4'), he...\n",
      "pfcand_isNeutralHad  | std::vector<float>       | AsJagged(AsDtype('>f4'), he...\n",
      "pfcand_lostInnerHits | std::vector<float>       | AsJagged(AsDtype('>f4'), he...\n",
      "pfcand_mass          | std::vector<float>       | AsJagged(AsDtype('>f4'), he...\n",
      "pfcand_phirel        | std::vector<float>       | AsJagged(AsDtype('>f4'), he...\n",
      "pfcand_ptrel         | std::vector<float>       | AsJagged(AsDtype('>f4'), he...\n",
      "pfcand_puppiw        | std::vector<float>       | AsJagged(AsDtype('>f4'), he...\n",
      "n_tracks             | int32_t                  | AsDtype('>i4')\n",
      "ntracks              | float                    | AsDtype('>f4')\n",
      "trackBTag_DeltaR     | std::vector<float>       | AsJagged(AsDtype('>f4'), he...\n",
      "trackBTag_Eta        | std::vector<float>       | AsJagged(AsDtype('>f4'), he...\n",
      "trackBTag_EtaRel     | std::vector<float>       | AsJagged(AsDtype('>f4'), he...\n",
      "trackBTag_JetDistVal | std::vector<float>       | AsJagged(AsDtype('>f4'), he...\n",
      "trackBTag_Momentum   | std::vector<float>       | AsJagged(AsDtype('>f4'), he...\n",
      "trackBTag_PPar       | std::vector<float>       | AsJagged(AsDtype('>f4'), he...\n",
      "trackBTag_PParRatio  | std::vector<float>       | AsJagged(AsDtype('>f4'), he...\n",
      "trackBTag_PtRatio    | std::vector<float>       | AsJagged(AsDtype('>f4'), he...\n",
      "trackBTag_PtRel      | std::vector<float>       | AsJagged(AsDtype('>f4'), he...\n",
      "trackBTag_Sip2dSig   | std::vector<float>       | AsJagged(AsDtype('>f4'), he...\n",
      "trackBTag_Sip2dVal   | std::vector<float>       | AsJagged(AsDtype('>f4'), he...\n",
      "trackBTag_Sip3dSig   | std::vector<float>       | AsJagged(AsDtype('>f4'), he...\n",
      "trackBTag_Sip3dVal   | std::vector<float>       | AsJagged(AsDtype('>f4'), he...\n",
      "track_VTX_ass        | std::vector<float>       | AsJagged(AsDtype('>f4'), he...\n",
      "track_charge         | std::vector<float>       | AsJagged(AsDtype('>f4'), he...\n",
      "track_deltaR         | std::vector<float>       | AsJagged(AsDtype('>f4'), he...\n",
      "track_detadeta       | std::vector<float>       | AsJagged(AsDtype('>f4'), he...\n",
      "track_dlambdadz      | std::vector<float>       | AsJagged(AsDtype('>f4'), he...\n",
      "track_dphidphi       | std::vector<float>       | AsJagged(AsDtype('>f4'), he...\n",
      "track_dphidxy        | std::vector<float>       | AsJagged(AsDtype('>f4'), he...\n",
      "track_dptdpt         | std::vector<float>       | AsJagged(AsDtype('>f4'), he...\n",
      "track_drminsv        | std::vector<float>       | AsJagged(AsDtype('>f4'), he...\n",
      "track_drsubjet1      | std::vector<float>       | AsJagged(AsDtype('>f4'), he...\n",
      "track_drsubjet2      | std::vector<float>       | AsJagged(AsDtype('>f4'), he...\n",
      "track_dxy            | std::vector<float>       | AsJagged(AsDtype('>f4'), he...\n",
      "track_dxydxy         | std::vector<float>       | AsJagged(AsDtype('>f4'), he...\n",
      "track_dxydz          | std::vector<float>       | AsJagged(AsDtype('>f4'), he...\n",
      "track_dxysig         | std::vector<float>       | AsJagged(AsDtype('>f4'), he...\n",
      "track_dz             | std::vector<float>       | AsJagged(AsDtype('>f4'), he...\n",
      "track_dzdz           | std::vector<float>       | AsJagged(AsDtype('>f4'), he...\n",
      "track_dzsig          | std::vector<float>       | AsJagged(AsDtype('>f4'), he...\n",
      "track_erel           | std::vector<float>       | AsJagged(AsDtype('>f4'), he...\n",
      "track_etarel         | std::vector<float>       | AsJagged(AsDtype('>f4'), he...\n",
      "track_fromPV         | std::vector<float>       | AsJagged(AsDtype('>f4'), he...\n",
      "track_isChargedHad   | std::vector<float>       | AsJagged(AsDtype('>f4'), he...\n",
      "track_isEl           | std::vector<float>       | AsJagged(AsDtype('>f4'), he...\n",
      "track_isMu           | std::vector<float>       | AsJagged(AsDtype('>f4'), he...\n",
      "track_lostInnerHits  | std::vector<float>       | AsJagged(AsDtype('>f4'), he...\n",
      "track_mass           | std::vector<float>       | AsJagged(AsDtype('>f4'), he...\n",
      "track_normchi2       | std::vector<float>       | AsJagged(AsDtype('>f4'), he...\n",
      "track_phirel         | std::vector<float>       | AsJagged(AsDtype('>f4'), he...\n",
      "track_pt             | std::vector<float>       | AsJagged(AsDtype('>f4'), he...\n",
      "track_ptrel          | std::vector<float>       | AsJagged(AsDtype('>f4'), he...\n",
      "track_puppiw         | std::vector<float>       | AsJagged(AsDtype('>f4'), he...\n",
      "track_quality        | std::vector<float>       | AsJagged(AsDtype('>f4'), he...\n",
      "n_sv                 | int32_t                  | AsDtype('>i4')\n",
      "nsv                  | float                    | AsDtype('>f4')\n",
      "sv_chi2              | std::vector<float>       | AsJagged(AsDtype('>f4'), he...\n",
      "sv_costhetasvpv      | std::vector<float>       | AsJagged(AsDtype('>f4'), he...\n",
      "sv_d3d               | std::vector<float>       | AsJagged(AsDtype('>f4'), he...\n",
      "sv_d3derr            | std::vector<float>       | AsJagged(AsDtype('>f4'), he...\n",
      "sv_d3dsig            | std::vector<float>       | AsJagged(AsDtype('>f4'), he...\n",
      "sv_deltaR            | std::vector<float>       | AsJagged(AsDtype('>f4'), he...\n",
      "sv_dxy               | std::vector<float>       | AsJagged(AsDtype('>f4'), he...\n",
      "sv_dxyerr            | std::vector<float>       | AsJagged(AsDtype('>f4'), he...\n",
      "sv_dxysig            | std::vector<float>       | AsJagged(AsDtype('>f4'), he...\n",
      "sv_erel              | std::vector<float>       | AsJagged(AsDtype('>f4'), he...\n",
      "sv_etarel            | std::vector<float>       | AsJagged(AsDtype('>f4'), he...\n",
      "sv_mass              | std::vector<float>       | AsJagged(AsDtype('>f4'), he...\n",
      "sv_ndf               | std::vector<float>       | AsJagged(AsDtype('>f4'), he...\n",
      "sv_normchi2          | std::vector<float>       | AsJagged(AsDtype('>f4'), he...\n",
      "sv_ntracks           | std::vector<float>       | AsJagged(AsDtype('>f4'), he...\n",
      "sv_phirel            | std::vector<float>       | AsJagged(AsDtype('>f4'), he...\n",
      "sv_pt                | std::vector<float>       | AsJagged(AsDtype('>f4'), he...\n",
      "sv_ptrel             | std::vector<float>       | AsJagged(AsDtype('>f4'), he...\n"
     ]
    }
   ],
   "source": [
    "url = testList[0]\n",
    "# open and read root files online\n",
    "root_f = uproot.open(url)\n",
    "tree = root_f['deepntuplizer/tree']\n",
    "tree.show()"
   ]
  },
  {
   "cell_type": "code",
   "execution_count": 10,
   "metadata": {},
   "outputs": [
    {
     "data": {
      "text/plain": [
       "<HDF5 dataset \"training_0\": shape (200000,), type \"|V108\">"
      ]
     },
     "execution_count": 10,
     "metadata": {},
     "output_type": "execute_result"
    }
   ],
   "source": [
    "ftrs_0_arr = tree.arrays(ftrs_0)\n",
    "training_data.create_dataset(\"training_0\", data=ftrs_0_arr)"
   ]
  },
  {
   "cell_type": "code",
   "execution_count": 11,
   "metadata": {
    "scrolled": false
   },
   "outputs": [],
   "source": [
    "ftrs_1_ak = tree.arrays(ftrs_1, library='ak')\n",
    "ftrs_1_ak = ak.pad_none(ftrs_1_ak, axis=1, target=100, clip=True)\n",
    "ftrs_1_ak = ak.fill_none(ftrs_1_ak, axis=1, value=0.0)\n",
    "\n",
    "ftrs_1_arr = np.zeros(shape=(200000, len(ftrs_1), 100), dtype=float)\n",
    "for i, field in enumerate(ftrs_1_ak.fields):\n",
    "    ftrs_1_arr[:,i] = ftrs_1_ak[field].to_numpy()"
   ]
  },
  {
   "cell_type": "code",
   "execution_count": 12,
   "metadata": {},
   "outputs": [
    {
     "data": {
      "text/plain": [
       "<HDF5 dataset \"training_1\": shape (200000, 10, 100), type \"<f8\">"
      ]
     },
     "execution_count": 12,
     "metadata": {},
     "output_type": "execute_result"
    }
   ],
   "source": [
    "training_data.create_dataset(\"training_1\", data=ftrs_1_arr)"
   ]
  },
  {
   "cell_type": "code",
   "execution_count": 13,
   "metadata": {},
   "outputs": [],
   "source": [
    "ftrs_2_ak = tree.arrays(ftrs_2, library='ak')\n",
    "ftrs_2_ak = ak.pad_none(ftrs_2_ak, axis=1, target=60, clip=True)\n",
    "ftrs_2_ak = ak.fill_none(ftrs_2_ak, axis=1, value=0.0)\n",
    "\n",
    "ftrs_2_arr = np.zeros(shape=(200000, len(ftrs_2), 60), dtype=float)\n",
    "for i, field in enumerate(ftrs_2_ak.fields):\n",
    "    ftrs_2_arr[:,i] = ftrs_2_ak[field].to_numpy()"
   ]
  },
  {
   "cell_type": "code",
   "execution_count": 14,
   "metadata": {},
   "outputs": [
    {
     "data": {
      "text/plain": [
       "<HDF5 dataset \"training_2\": shape (200000, 30, 60), type \"<f8\">"
      ]
     },
     "execution_count": 14,
     "metadata": {},
     "output_type": "execute_result"
    }
   ],
   "source": [
    "training_data.create_dataset(\"training_2\", data=ftrs_2_arr)"
   ]
  },
  {
   "cell_type": "code",
   "execution_count": 15,
   "metadata": {},
   "outputs": [],
   "source": [
    "ftrs_3_ak = tree.arrays(ftrs_3, library='ak')\n",
    "ftrs_3_ak = ak.pad_none(ftrs_3_ak, axis=1, target=5, clip=True)\n",
    "ftrs_3_ak = ak.fill_none(ftrs_3_ak, axis=1, value=0.0)\n",
    "\n",
    "ftrs_3_arr = np.zeros(shape=(200000, len(ftrs_3), 5), dtype=float)\n",
    "for i, field in enumerate(ftrs_3_ak.fields):\n",
    "    ftrs_3_arr[:,i] = ftrs_3_ak[field].to_numpy()"
   ]
  },
  {
   "cell_type": "code",
   "execution_count": 16,
   "metadata": {},
   "outputs": [
    {
     "data": {
      "text/plain": [
       "<HDF5 dataset \"training_3\": shape (200000, 14, 5), type \"<f8\">"
      ]
     },
     "execution_count": 16,
     "metadata": {},
     "output_type": "execute_result"
    }
   ],
   "source": [
    "training_data.create_dataset(\"training_3\", data=ftrs_3_arr)"
   ]
  },
  {
   "cell_type": "code",
   "execution_count": 17,
   "metadata": {},
   "outputs": [],
   "source": [
    "specs = ['fj_pt',\n",
    "                          'fj_eta',\n",
    "                          'fj_sdmass',\n",
    "                          'fj_n_sdsubjets',\n",
    "                          'fj_doubleb',\n",
    "                          'fj_tau21',\n",
    "                          'fj_tau32',\n",
    "                          'npv',\n",
    "                          'npfcands',\n",
    "                          'ntracks',\n",
    "                          'nsv'\n",
    "                      ]"
   ]
  },
  {
   "cell_type": "code",
   "execution_count": 18,
   "metadata": {},
   "outputs": [
    {
     "data": {
      "text/plain": [
       "<HDF5 dataset \"spectators\": shape (200000,), type \"|V44\">"
      ]
     },
     "execution_count": 18,
     "metadata": {},
     "output_type": "execute_result"
    }
   ],
   "source": [
    "specs_arr = tree.arrays(specs)\n",
    "spec_data.create_dataset(\"spectators\", data=specs_arr)"
   ]
  },
  {
   "cell_type": "code",
   "execution_count": null,
   "metadata": {},
   "outputs": [],
   "source": []
  },
  {
   "cell_type": "code",
   "execution_count": null,
   "metadata": {},
   "outputs": [],
   "source": []
  },
  {
   "cell_type": "code",
   "execution_count": null,
   "metadata": {},
   "outputs": [],
   "source": []
  },
  {
   "cell_type": "code",
   "execution_count": null,
   "metadata": {},
   "outputs": [],
   "source": []
  }
 ],
 "metadata": {
  "kernelspec": {
   "display_name": "Python 3 (ipykernel)",
   "language": "python",
   "name": "python3"
  },
  "language_info": {
   "codemirror_mode": {
    "name": "ipython",
    "version": 3
   },
   "file_extension": ".py",
   "mimetype": "text/x-python",
   "name": "python",
   "nbconvert_exporter": "python",
   "pygments_lexer": "ipython3",
   "version": "3.8.12"
  }
 },
 "nbformat": 4,
 "nbformat_minor": 4
}
