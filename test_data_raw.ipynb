{
 "cells": [
  {
   "cell_type": "code",
   "execution_count": 1,
   "metadata": {},
   "outputs": [],
   "source": [
    "import sys\n",
    "import urllib.request\n",
    "from pathlib import Path\n",
    "from tqdm import tqdm\n",
    "import uproot\n",
    "import h5py"
   ]
  },
  {
   "cell_type": "code",
   "execution_count": 2,
   "metadata": {},
   "outputs": [],
   "source": [
    "# prepare the dir for raw data\n",
    "cwd = Path.cwd()\n",
    "data_raw_dir = cwd.parent.parent.joinpath(\"data/raw\")\n",
    "data_raw_dir.mkdir(parents=True, exist_ok=True)\n",
    "\n",
    "# get the list of root files\n",
    "trainList_url = \"http://opendata.cern.ch/record/12102/files/HiggsToBBNTuple_HiggsToBB_QCD_RunII_13TeV_MC_test_root_file_index.txt\"\n",
    "testList_url = \"http://opendata.cern.ch/record/12102/files/HiggsToBBNTuple_HiggsToBB_QCD_RunII_13TeV_MC_train_root_file_index.txt\"\n",
    "trainList = urllib.request.urlopen(trainList_url).read().decode('utf-8').split(\"\\n\")\n",
    "testList = urllib.request.urlopen(testList_url).read().decode('utf-8').split(\"\\n\")\n",
    "# rm empty entry\n",
    "trainList = [url for url in trainList if url]\n",
    "testList = [url for url in testList if url]\n"
   ]
  },
  {
   "cell_type": "code",
   "execution_count": 3,
   "metadata": {},
   "outputs": [],
   "source": [
    "url = testList[0]"
   ]
  },
  {
   "cell_type": "code",
   "execution_count": 6,
   "metadata": {},
   "outputs": [
    {
     "name": "stdout",
     "output_type": "stream",
     "text": [
      "['Delta_gen_pt', 'event_no', 'gen_pt', 'isB', 'isBB', 'isC', 'isG', 'isLeptonicB', 'isLeptonicB_C', 'isS', 'isUD', 'isUndefined', 'jet_corr_pt', 'jet_eta', 'jet_looseId', 'jet_no', 'jet_phi', 'jet_pt', 'jet_tightId', 'npv', 'ntrueInt', 'pfBoostedDoubleSecondaryVertexAK8BJetTags', 'pfCombinedInclusiveSecondaryVertexV2BJetTags', 'pfCombinedMVAV2BJetTags', 'pfDeepCSVJetTags_probb', 'pfDeepCSVJetTags_probbb', 'pfDeepCSVJetTags_probc', 'pfDeepCSVJetTags_probcc', 'pfDeepCSVJetTags_probudsg', 'pfJetBProbabilityBJetTags', 'pfJetProbabilityBJetTags', 'rho', 'softPFElectronBJetTags', 'softPFMuonBJetTags', 'fj_doubleb', 'fj_eta', 'fj_gen_eta', 'fj_gen_pt', 'fj_isBB', 'fj_isH', 'fj_isNonBB', 'fj_isQCD', 'fj_isTop', 'fj_isW', 'fj_isZ', 'fj_jetNTracks', 'fj_label', 'fj_labelJMAR', 'fj_labelLegacy', 'fj_mass', 'fj_nSV', 'fj_n_sdsubjets', 'fj_nbHadrons', 'fj_ncHadrons', 'fj_phi', 'fj_pt', 'fj_ptDR', 'fj_relptdiff', 'fj_sdmass', 'fj_sdn2', 'fj_sdsj1_axis1', 'fj_sdsj1_axis2', 'fj_sdsj1_csv', 'fj_sdsj1_eta', 'fj_sdsj1_mass', 'fj_sdsj1_mult', 'fj_sdsj1_phi', 'fj_sdsj1_pt', 'fj_sdsj1_ptD', 'fj_sdsj2_axis1', 'fj_sdsj2_axis2', 'fj_sdsj2_csv', 'fj_sdsj2_eta', 'fj_sdsj2_mass', 'fj_sdsj2_mult', 'fj_sdsj2_phi', 'fj_sdsj2_pt', 'fj_sdsj2_ptD', 'fj_tau0_trackEtaRel_0', 'fj_tau0_trackEtaRel_1', 'fj_tau0_trackEtaRel_2', 'fj_tau1', 'fj_tau1_trackEtaRel_0', 'fj_tau1_trackEtaRel_1', 'fj_tau1_trackEtaRel_2', 'fj_tau2', 'fj_tau21', 'fj_tau3', 'fj_tau32', 'fj_tau_flightDistance2dSig_0', 'fj_tau_flightDistance2dSig_1', 'fj_tau_vertexDeltaR_0', 'fj_tau_vertexEnergyRatio_0', 'fj_tau_vertexEnergyRatio_1', 'fj_tau_vertexMass_0', 'fj_tau_vertexMass_1', 'fj_trackSip2dSigAboveBottom_0', 'fj_trackSip2dSigAboveBottom_1', 'fj_trackSip2dSigAboveCharm_0', 'fj_trackSipdSig_0', 'fj_trackSipdSig_0_0', 'fj_trackSipdSig_0_1', 'fj_trackSipdSig_1', 'fj_trackSipdSig_1_0', 'fj_trackSipdSig_1_1', 'fj_trackSipdSig_2', 'fj_trackSipdSig_3', 'fj_z_ratio', 'label_H_bb', 'label_H_cc', 'label_H_qqqq', 'label_QCD_b', 'label_QCD_bb', 'label_QCD_c', 'label_QCD_cc', 'label_QCD_others', 'label_Top_bc', 'label_Top_bcq', 'label_Top_bq', 'label_Top_bqq', 'label_W_cq', 'label_W_qq', 'label_Z_bb', 'label_Z_cc', 'label_Z_qq', 'sample_isQCD', 'n_pfcands', 'npfcands', 'pfcand_VTX_ass', 'pfcand_charge', 'pfcand_deltaR', 'pfcand_drminsv', 'pfcand_drsubjet1', 'pfcand_drsubjet2', 'pfcand_dxy', 'pfcand_dxysig', 'pfcand_dz', 'pfcand_dzsig', 'pfcand_erel', 'pfcand_etarel', 'pfcand_fromPV', 'pfcand_hcalFrac', 'pfcand_isChargedHad', 'pfcand_isEl', 'pfcand_isGamma', 'pfcand_isMu', 'pfcand_isNeutralHad', 'pfcand_lostInnerHits', 'pfcand_mass', 'pfcand_phirel', 'pfcand_ptrel', 'pfcand_puppiw', 'n_tracks', 'ntracks', 'trackBTag_DeltaR', 'trackBTag_Eta', 'trackBTag_EtaRel', 'trackBTag_JetDistVal', 'trackBTag_Momentum', 'trackBTag_PPar', 'trackBTag_PParRatio', 'trackBTag_PtRatio', 'trackBTag_PtRel', 'trackBTag_Sip2dSig', 'trackBTag_Sip2dVal', 'trackBTag_Sip3dSig', 'trackBTag_Sip3dVal', 'track_VTX_ass', 'track_charge', 'track_deltaR', 'track_detadeta', 'track_dlambdadz', 'track_dphidphi', 'track_dphidxy', 'track_dptdpt', 'track_drminsv', 'track_drsubjet1', 'track_drsubjet2', 'track_dxy', 'track_dxydxy', 'track_dxydz', 'track_dxysig', 'track_dz', 'track_dzdz', 'track_dzsig', 'track_erel', 'track_etarel', 'track_fromPV', 'track_isChargedHad', 'track_isEl', 'track_isMu', 'track_lostInnerHits', 'track_mass', 'track_normchi2', 'track_phirel', 'track_pt', 'track_ptrel', 'track_puppiw', 'track_quality', 'n_sv', 'nsv', 'sv_chi2', 'sv_costhetasvpv', 'sv_d3d', 'sv_d3derr', 'sv_d3dsig', 'sv_deltaR', 'sv_dxy', 'sv_dxyerr', 'sv_dxysig', 'sv_erel', 'sv_etarel', 'sv_mass', 'sv_ndf', 'sv_normchi2', 'sv_ntracks', 'sv_phirel', 'sv_pt', 'sv_ptrel']\n"
     ]
    }
   ],
   "source": [
    "# h5_name = url.rsplit('/', 1)[1].split('.')[0]+'.h5'\n",
    "# h5_path = data_raw_dir.joinpath(h5_name)  \n",
    "# h5_f = h5py.File(str(h5_path), 'w')\n",
    "# open and read root files online\n",
    "root_f = uproot.open(url)\n",
    "tree = root_f['deepntuplizer/tree']\n",
    "keys = tree.keys()\n",
    "print(keys)\n",
    "# fill branches into dataset\n",
    "# for k in keys:\n",
    "#     try:\n",
    "#         arr = tree[k].array(library='np')\n",
    "#         h5_f.create_dataset(k, data=arr)\n",
    "#     except Exception as e:\n",
    "#         print(f\"{k} has an error {e}\")\n",
    "# h5_f.close()"
   ]
  },
  {
   "cell_type": "code",
   "execution_count": 18,
   "metadata": {},
   "outputs": [
    {
     "name": "stdout",
     "output_type": "stream",
     "text": [
      "(44,)\n",
      "float32\n"
     ]
    }
   ],
   "source": [
    "arr = tree['pfcand_VTX_ass'].array(library='np')\n",
    "print(arr[4].shape)\n",
    "arr = tree['Delta_gen_pt'].array(library='np')\n",
    "print(arr.dtype)"
   ]
  },
  {
   "cell_type": "code",
   "execution_count": null,
   "metadata": {},
   "outputs": [],
   "source": []
  }
 ],
 "metadata": {
  "kernelspec": {
   "display_name": "Python 3 (ipykernel)",
   "language": "python",
   "name": "python3"
  },
  "language_info": {
   "codemirror_mode": {
    "name": "ipython",
    "version": 3
   },
   "file_extension": ".py",
   "mimetype": "text/x-python",
   "name": "python",
   "nbconvert_exporter": "python",
   "pygments_lexer": "ipython3",
   "version": "3.8.12"
  }
 },
 "nbformat": 4,
 "nbformat_minor": 4
}
