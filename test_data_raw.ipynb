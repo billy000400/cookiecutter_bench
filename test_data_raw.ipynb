{
 "cells": [
  {
   "cell_type": "code",
   "execution_count": 1,
   "metadata": {},
   "outputs": [],
   "source": [
    "import sys\n",
    "import urllib.request\n",
    "from pathlib import Path\n",
    "from tqdm import tqdm\n",
    "import numpy as np\n",
    "import uproot\n",
    "import awkward as ak\n",
    "import h5py"
   ]
  },
  {
   "cell_type": "code",
   "execution_count": 2,
   "metadata": {},
   "outputs": [],
   "source": [
    "# prepare the dir for raw data\n",
    "cwd = Path.cwd()\n",
    "data_raw_dir = cwd.joinpath(\"test_data/raw\")\n",
    "data_raw_dir.mkdir(parents=True, exist_ok=True)\n",
    "\n",
    "# get the list of root files\n",
    "trainList_url = \"http://opendata.cern.ch/record/12102/files/HiggsToBBNTuple_HiggsToBB_QCD_RunII_13TeV_MC_test_root_file_index.txt\"\n",
    "testList_url = \"http://opendata.cern.ch/record/12102/files/HiggsToBBNTuple_HiggsToBB_QCD_RunII_13TeV_MC_train_root_file_index.txt\"\n",
    "trainList = urllib.request.urlopen(trainList_url).read().decode('utf-8').split(\"\\n\")\n",
    "testList = urllib.request.urlopen(testList_url).read().decode('utf-8').split(\"\\n\")\n",
    "# rm empty entry\n",
    "trainList = [url for url in trainList if url]\n",
    "testList = [url for url in testList if url]\n"
   ]
  },
  {
   "cell_type": "code",
   "execution_count": 3,
   "metadata": {},
   "outputs": [],
   "source": [
    "url = testList[0]"
   ]
  },
  {
   "cell_type": "code",
   "execution_count": 4,
   "metadata": {
    "scrolled": false
   },
   "outputs": [],
   "source": [
    "# # prepare target file\n",
    "# h5_name = url.rsplit('/', 1)[1].split('.')[0]+'.h5'\n",
    "# h5_path = data_raw_dir.joinpath(h5_name)  \n",
    "# h5_f = h5py.File(str(h5_path), 'w')\n",
    "\n",
    "# # open and read root files online\n",
    "# root_f = uproot.open(url)\n",
    "# tree = root_f['deepntuplizer/tree']\n",
    "# keys = tree.keys()\n",
    "\n",
    "# # prepare number cuts on pfcand, track, and sv\n",
    "# ncuts = {}\n",
    "# ncuts['pfcand']=100\n",
    "# ncuts['track']=60\n",
    "# ncuts['sv']=5\n",
    "\n",
    "# # fill branches into dataset\n",
    "# for k in keys:\n",
    "#     try:\n",
    "#         # get maximum number\n",
    "#         arr = tree[k].array(library='ak')\n",
    "#         if arr.ndim == 1:\n",
    "#             h5_f.create_dataset(k, data=arr)\n",
    "#         else:\n",
    "#             maxobj = ak.max(ak.num(arr, axis=1))\n",
    "#             special_keys = ncuts.keys()\n",
    "#             for sk in special_keys:\n",
    "#                 if k in sk:\n",
    "#                     maxobj = ncuts[sk]\n",
    "#             # zero padding\n",
    "#             arr = ak.pad_none(arr, target=maxobj, clip=True)\n",
    "#             arr = ak.fill_none(arr, 0).to_numpy().astype(np.float16)\n",
    "#             h5_f.create_dataset(k, data=arr)\n",
    "#     except Exception as e:\n",
    "#         print(arr.ndim)\n",
    "#         print(arr.dtype)\n",
    "#         print(f\"{k} has an error {e}\")\n",
    "        \n",
    "# # close the file\n",
    "# h5_f.close()"
   ]
  },
  {
   "cell_type": "markdown",
   "metadata": {},
   "source": [
    "New design after adopting the subgroups"
   ]
  },
  {
   "cell_type": "code",
   "execution_count": 5,
   "metadata": {},
   "outputs": [],
   "source": [
    "ftrs_0 = ['fj_jetNTracks',\n",
    "                          'fj_nSV',\n",
    "                          'fj_tau0_trackEtaRel_0',\n",
    "                          'fj_tau0_trackEtaRel_1',\n",
    "                          'fj_tau0_trackEtaRel_2',\n",
    "                          'fj_tau1_trackEtaRel_0',\n",
    "                          'fj_tau1_trackEtaRel_1',\n",
    "                          'fj_tau1_trackEtaRel_2',\n",
    "                          'fj_tau_flightDistance2dSig_0',\n",
    "                          'fj_tau_flightDistance2dSig_1',\n",
    "                          'fj_tau_vertexDeltaR_0',\n",
    "                          'fj_tau_vertexEnergyRatio_0',\n",
    "                          'fj_tau_vertexEnergyRatio_1',\n",
    "                          'fj_tau_vertexMass_0',\n",
    "                          'fj_tau_vertexMass_1',\n",
    "                          'fj_trackSip2dSigAboveBottom_0',\n",
    "                          'fj_trackSip2dSigAboveBottom_1',\n",
    "                          'fj_trackSip2dSigAboveCharm_0',\n",
    "                          'fj_trackSipdSig_0',\n",
    "                          'fj_trackSipdSig_0_0',\n",
    "                          'fj_trackSipdSig_0_1',\n",
    "                          'fj_trackSipdSig_1',\n",
    "                          'fj_trackSipdSig_1_0',\n",
    "                          'fj_trackSipdSig_1_1',\n",
    "                          'fj_trackSipdSig_2',\n",
    "                          'fj_trackSipdSig_3',\n",
    "                          'fj_z_ratio'\n",
    "                          ]\n",
    "ftrs_1 = ['pfcand_ptrel',\n",
    "                          'pfcand_erel',\n",
    "                          'pfcand_phirel',\n",
    "                          'pfcand_etarel',\n",
    "                          'pfcand_deltaR',\n",
    "                          'pfcand_puppiw',\n",
    "                          'pfcand_drminsv',\n",
    "                          'pfcand_drsubjet1',\n",
    "                          'pfcand_drsubjet2',\n",
    "                          'pfcand_hcalFrac']\n",
    "ftrs_2 = ['track_ptrel',     \n",
    "                          'track_erel',     \n",
    "                          'track_phirel',     \n",
    "                          'track_etarel',     \n",
    "                          'track_deltaR',\n",
    "                          'track_drminsv',     \n",
    "                          'track_drsubjet1',     \n",
    "                          'track_drsubjet2',\n",
    "                          'track_dz',     \n",
    "                          'track_dzsig',     \n",
    "                          'track_dxy',     \n",
    "                          'track_dxysig',     \n",
    "                          'track_normchi2',     \n",
    "                          'track_quality',     \n",
    "                          'track_dptdpt',     \n",
    "                          'track_detadeta',     \n",
    "                          'track_dphidphi',     \n",
    "                          'track_dxydxy',     \n",
    "                          'track_dzdz',     \n",
    "                          'track_dxydz',     \n",
    "                          'track_dphidxy',     \n",
    "                          'track_dlambdadz',     \n",
    "                          'trackBTag_EtaRel',     \n",
    "                          'trackBTag_PtRatio',     \n",
    "                          'trackBTag_PParRatio',     \n",
    "                          'trackBTag_Sip2dVal',     \n",
    "                          'trackBTag_Sip2dSig',     \n",
    "                          'trackBTag_Sip3dVal',     \n",
    "                          'trackBTag_Sip3dSig',     \n",
    "                          'trackBTag_JetDistVal']\n",
    "ftrs_3 = ['sv_ptrel',\n",
    "                          'sv_erel',\n",
    "                          'sv_phirel',\n",
    "                          'sv_etarel',\n",
    "                          'sv_deltaR',\n",
    "                          'sv_pt',\n",
    "                          'sv_mass',\n",
    "                          'sv_ntracks',\n",
    "                          'sv_normchi2',\n",
    "                          'sv_dxy',\n",
    "                          'sv_dxysig',\n",
    "                          'sv_d3d',\n",
    "                          'sv_d3dsig',\n",
    "                          'sv_costhetasvpv']"
   ]
  },
  {
   "cell_type": "code",
   "execution_count": 6,
   "metadata": {},
   "outputs": [],
   "source": [
    "spectators = ['fj_pt',\n",
    "                          'fj_eta',\n",
    "                          'fj_sdmass',\n",
    "                          'fj_n_sdsubjets',\n",
    "                          'fj_doubleb',\n",
    "                          'fj_tau21',\n",
    "                          'fj_tau32',\n",
    "                          'npv',\n",
    "                          'npfcands',\n",
    "                          'ntracks',\n",
    "                          'nsv'\n",
    "                      ]"
   ]
  },
  {
   "cell_type": "code",
   "execution_count": 7,
   "metadata": {},
   "outputs": [],
   "source": [
    "targets = ['sample_isQCD','fj_isQCD','fj_isH']"
   ]
  },
  {
   "cell_type": "code",
   "execution_count": 8,
   "metadata": {},
   "outputs": [],
   "source": [
    "test_dir = data_raw_dir.joinpath('test')\n",
    "test_dir.mkdir(exist_ok=True, parents=True)\n",
    "h5_path = test_dir.joinpath('test.h5')\n",
    "h5_f = h5py.File(h5_path, 'w')\n",
    "training_data = h5_f.create_group(\"training_subgroup\")\n",
    "target_data = h5_f.create_group(\"target_subgroup\")\n",
    "spec_data = h5_f.create_group(\"spectator_subgroup\")"
   ]
  },
  {
   "cell_type": "code",
   "execution_count": 9,
   "metadata": {},
   "outputs": [
    {
     "name": "stdout",
     "output_type": "stream",
     "text": [
      "name                 | typename                 | interpretation                \n",
      "---------------------+--------------------------+-------------------------------\n",
      "Delta_gen_pt         | float                    | AsDtype('>f4')\n",
      "event_no             | uint32_t                 | AsDtype('>u4')\n",
      "gen_pt               | float                    | AsDtype('>f4')\n",
      "isB                  | int32_t                  | AsDtype('>i4')\n",
      "isBB                 | int32_t                  | AsDtype('>i4')\n",
      "isC                  | int32_t                  | AsDtype('>i4')\n",
      "isG                  | int32_t                  | AsDtype('>i4')\n",
      "isLeptonicB          | int32_t                  | AsDtype('>i4')\n",
      "isLeptonicB_C        | int32_t                  | AsDtype('>i4')\n",
      "isS                  | int32_t                  | AsDtype('>i4')\n",
      "isUD                 | int32_t                  | AsDtype('>i4')\n",
      "isUndefined          | int32_t                  | AsDtype('>i4')\n",
      "jet_corr_pt          | float                    | AsDtype('>f4')\n",
      "jet_eta              | float                    | AsDtype('>f4')\n",
      "jet_looseId          | float                    | AsDtype('>f4')\n",
      "jet_no               | uint32_t                 | AsDtype('>u4')\n",
      "jet_phi              | float                    | AsDtype('>f4')\n",
      "jet_pt               | float                    | AsDtype('>f4')\n",
      "jet_tightId          | float                    | AsDtype('>f4')\n",
      "npv                  | float                    | AsDtype('>f4')\n",
      "ntrueInt             | float                    | AsDtype('>f4')\n",
      "pfBoostedDoubleSe... | float                    | AsDtype('>f4')\n",
      "pfCombinedInclusi... | float                    | AsDtype('>f4')\n",
      "pfCombinedMVAV2BJ... | float                    | AsDtype('>f4')\n",
      "pfDeepCSVJetTags_... | float                    | AsDtype('>f4')\n",
      "pfDeepCSVJetTags_... | float                    | AsDtype('>f4')\n",
      "pfDeepCSVJetTags_... | float                    | AsDtype('>f4')\n",
      "pfDeepCSVJetTags_... | float                    | AsDtype('>f4')\n",
      "pfDeepCSVJetTags_... | float                    | AsDtype('>f4')\n",
      "pfJetBProbability... | float                    | AsDtype('>f4')\n",
      "pfJetProbabilityB... | float                    | AsDtype('>f4')\n",
      "rho                  | float                    | AsDtype('>f4')\n",
      "softPFElectronBJe... | float                    | AsDtype('>f4')\n",
      "softPFMuonBJetTags   | float                    | AsDtype('>f4')\n",
      "fj_doubleb           | float                    | AsDtype('>f4')\n",
      "fj_eta               | float                    | AsDtype('>f4')\n",
      "fj_gen_eta           | float                    | AsDtype('>f4')\n",
      "fj_gen_pt            | float                    | AsDtype('>f4')\n",
      "fj_isBB              | int32_t                  | AsDtype('>i4')\n",
      "fj_isH               | int32_t                  | AsDtype('>i4')\n",
      "fj_isNonBB           | int32_t                  | AsDtype('>i4')\n",
      "fj_isQCD             | int32_t                  | AsDtype('>i4')\n",
      "fj_isTop             | int32_t                  | AsDtype('>i4')\n",
      "fj_isW               | int32_t                  | AsDtype('>i4')\n",
      "fj_isZ               | int32_t                  | AsDtype('>i4')\n",
      "fj_jetNTracks        | float                    | AsDtype('>f4')\n",
      "fj_label             | int32_t                  | AsDtype('>i4')\n",
      "fj_labelJMAR         | int32_t                  | AsDtype('>i4')\n",
      "fj_labelLegacy       | int32_t                  | AsDtype('>i4')\n",
      "fj_mass              | float                    | AsDtype('>f4')\n",
      "fj_nSV               | float                    | AsDtype('>f4')\n",
      "fj_n_sdsubjets       | float                    | AsDtype('>f4')\n",
      "fj_nbHadrons         | int32_t                  | AsDtype('>i4')\n",
      "fj_ncHadrons         | int32_t                  | AsDtype('>i4')\n",
      "fj_phi               | float                    | AsDtype('>f4')\n",
      "fj_pt                | float                    | AsDtype('>f4')\n",
      "fj_ptDR              | float                    | AsDtype('>f4')\n",
      "fj_relptdiff         | float                    | AsDtype('>f4')\n",
      "fj_sdmass            | float                    | AsDtype('>f4')\n",
      "fj_sdn2              | float                    | AsDtype('>f4')\n",
      "fj_sdsj1_axis1       | float                    | AsDtype('>f4')\n",
      "fj_sdsj1_axis2       | float                    | AsDtype('>f4')\n",
      "fj_sdsj1_csv         | float                    | AsDtype('>f4')\n",
      "fj_sdsj1_eta         | float                    | AsDtype('>f4')\n",
      "fj_sdsj1_mass        | float                    | AsDtype('>f4')\n",
      "fj_sdsj1_mult        | float                    | AsDtype('>f4')\n",
      "fj_sdsj1_phi         | float                    | AsDtype('>f4')\n",
      "fj_sdsj1_pt          | float                    | AsDtype('>f4')\n",
      "fj_sdsj1_ptD         | float                    | AsDtype('>f4')\n",
      "fj_sdsj2_axis1       | float                    | AsDtype('>f4')\n",
      "fj_sdsj2_axis2       | float                    | AsDtype('>f4')\n",
      "fj_sdsj2_csv         | float                    | AsDtype('>f4')\n",
      "fj_sdsj2_eta         | float                    | AsDtype('>f4')\n",
      "fj_sdsj2_mass        | float                    | AsDtype('>f4')\n",
      "fj_sdsj2_mult        | float                    | AsDtype('>f4')\n",
      "fj_sdsj2_phi         | float                    | AsDtype('>f4')\n",
      "fj_sdsj2_pt          | float                    | AsDtype('>f4')\n",
      "fj_sdsj2_ptD         | float                    | AsDtype('>f4')\n",
      "fj_tau0_trackEtaR... | float                    | AsDtype('>f4')\n",
      "fj_tau0_trackEtaR... | float                    | AsDtype('>f4')\n",
      "fj_tau0_trackEtaR... | float                    | AsDtype('>f4')\n",
      "fj_tau1              | float                    | AsDtype('>f4')\n",
      "fj_tau1_trackEtaR... | float                    | AsDtype('>f4')\n",
      "fj_tau1_trackEtaR... | float                    | AsDtype('>f4')\n",
      "fj_tau1_trackEtaR... | float                    | AsDtype('>f4')\n",
      "fj_tau2              | float                    | AsDtype('>f4')\n",
      "fj_tau21             | float                    | AsDtype('>f4')\n",
      "fj_tau3              | float                    | AsDtype('>f4')\n",
      "fj_tau32             | float                    | AsDtype('>f4')\n",
      "fj_tau_flightDist... | float                    | AsDtype('>f4')\n",
      "fj_tau_flightDist... | float                    | AsDtype('>f4')\n",
      "fj_tau_vertexDelt... | float                    | AsDtype('>f4')\n",
      "fj_tau_vertexEner... | float                    | AsDtype('>f4')\n",
      "fj_tau_vertexEner... | float                    | AsDtype('>f4')\n",
      "fj_tau_vertexMass_0  | float                    | AsDtype('>f4')\n",
      "fj_tau_vertexMass_1  | float                    | AsDtype('>f4')\n",
      "fj_trackSip2dSigA... | float                    | AsDtype('>f4')\n",
      "fj_trackSip2dSigA... | float                    | AsDtype('>f4')\n",
      "fj_trackSip2dSigA... | float                    | AsDtype('>f4')\n",
      "fj_trackSipdSig_0    | float                    | AsDtype('>f4')\n",
      "fj_trackSipdSig_0_0  | float                    | AsDtype('>f4')\n",
      "fj_trackSipdSig_0_1  | float                    | AsDtype('>f4')\n",
      "fj_trackSipdSig_1    | float                    | AsDtype('>f4')\n",
      "fj_trackSipdSig_1_0  | float                    | AsDtype('>f4')\n",
      "fj_trackSipdSig_1_1  | float                    | AsDtype('>f4')\n",
      "fj_trackSipdSig_2    | float                    | AsDtype('>f4')\n",
      "fj_trackSipdSig_3    | float                    | AsDtype('>f4')\n",
      "fj_z_ratio           | float                    | AsDtype('>f4')\n",
      "label_H_bb           | int32_t                  | AsDtype('>i4')\n",
      "label_H_cc           | int32_t                  | AsDtype('>i4')\n",
      "label_H_qqqq         | int32_t                  | AsDtype('>i4')\n",
      "label_QCD_b          | int32_t                  | AsDtype('>i4')\n",
      "label_QCD_bb         | int32_t                  | AsDtype('>i4')\n",
      "label_QCD_c          | int32_t                  | AsDtype('>i4')\n",
      "label_QCD_cc         | int32_t                  | AsDtype('>i4')\n",
      "label_QCD_others     | int32_t                  | AsDtype('>i4')\n",
      "label_Top_bc         | int32_t                  | AsDtype('>i4')\n",
      "label_Top_bcq        | int32_t                  | AsDtype('>i4')\n",
      "label_Top_bq         | int32_t                  | AsDtype('>i4')\n",
      "label_Top_bqq        | int32_t                  | AsDtype('>i4')\n",
      "label_W_cq           | int32_t                  | AsDtype('>i4')\n",
      "label_W_qq           | int32_t                  | AsDtype('>i4')\n",
      "label_Z_bb           | int32_t                  | AsDtype('>i4')\n",
      "label_Z_cc           | int32_t                  | AsDtype('>i4')\n",
      "label_Z_qq           | int32_t                  | AsDtype('>i4')\n",
      "sample_isQCD         | int32_t                  | AsDtype('>i4')\n",
      "n_pfcands            | int32_t                  | AsDtype('>i4')\n",
      "npfcands             | float                    | AsDtype('>f4')\n",
      "pfcand_VTX_ass       | std::vector<float>       | AsJagged(AsDtype('>f4'), he...\n",
      "pfcand_charge        | std::vector<float>       | AsJagged(AsDtype('>f4'), he...\n",
      "pfcand_deltaR        | std::vector<float>       | AsJagged(AsDtype('>f4'), he...\n",
      "pfcand_drminsv       | std::vector<float>       | AsJagged(AsDtype('>f4'), he...\n",
      "pfcand_drsubjet1     | std::vector<float>       | AsJagged(AsDtype('>f4'), he...\n",
      "pfcand_drsubjet2     | std::vector<float>       | AsJagged(AsDtype('>f4'), he...\n",
      "pfcand_dxy           | std::vector<float>       | AsJagged(AsDtype('>f4'), he...\n",
      "pfcand_dxysig        | std::vector<float>       | AsJagged(AsDtype('>f4'), he...\n",
      "pfcand_dz            | std::vector<float>       | AsJagged(AsDtype('>f4'), he...\n",
      "pfcand_dzsig         | std::vector<float>       | AsJagged(AsDtype('>f4'), he...\n",
      "pfcand_erel          | std::vector<float>       | AsJagged(AsDtype('>f4'), he...\n",
      "pfcand_etarel        | std::vector<float>       | AsJagged(AsDtype('>f4'), he...\n",
      "pfcand_fromPV        | std::vector<float>       | AsJagged(AsDtype('>f4'), he...\n",
      "pfcand_hcalFrac      | std::vector<float>       | AsJagged(AsDtype('>f4'), he...\n",
      "pfcand_isChargedHad  | std::vector<float>       | AsJagged(AsDtype('>f4'), he...\n",
      "pfcand_isEl          | std::vector<float>       | AsJagged(AsDtype('>f4'), he...\n",
      "pfcand_isGamma       | std::vector<float>       | AsJagged(AsDtype('>f4'), he...\n",
      "pfcand_isMu          | std::vector<float>       | AsJagged(AsDtype('>f4'), he...\n",
      "pfcand_isNeutralHad  | std::vector<float>       | AsJagged(AsDtype('>f4'), he...\n",
      "pfcand_lostInnerHits | std::vector<float>       | AsJagged(AsDtype('>f4'), he...\n",
      "pfcand_mass          | std::vector<float>       | AsJagged(AsDtype('>f4'), he...\n",
      "pfcand_phirel        | std::vector<float>       | AsJagged(AsDtype('>f4'), he...\n",
      "pfcand_ptrel         | std::vector<float>       | AsJagged(AsDtype('>f4'), he...\n",
      "pfcand_puppiw        | std::vector<float>       | AsJagged(AsDtype('>f4'), he...\n",
      "n_tracks             | int32_t                  | AsDtype('>i4')\n",
      "ntracks              | float                    | AsDtype('>f4')\n",
      "trackBTag_DeltaR     | std::vector<float>       | AsJagged(AsDtype('>f4'), he...\n",
      "trackBTag_Eta        | std::vector<float>       | AsJagged(AsDtype('>f4'), he...\n",
      "trackBTag_EtaRel     | std::vector<float>       | AsJagged(AsDtype('>f4'), he...\n",
      "trackBTag_JetDistVal | std::vector<float>       | AsJagged(AsDtype('>f4'), he...\n",
      "trackBTag_Momentum   | std::vector<float>       | AsJagged(AsDtype('>f4'), he...\n",
      "trackBTag_PPar       | std::vector<float>       | AsJagged(AsDtype('>f4'), he...\n",
      "trackBTag_PParRatio  | std::vector<float>       | AsJagged(AsDtype('>f4'), he...\n",
      "trackBTag_PtRatio    | std::vector<float>       | AsJagged(AsDtype('>f4'), he...\n",
      "trackBTag_PtRel      | std::vector<float>       | AsJagged(AsDtype('>f4'), he...\n",
      "trackBTag_Sip2dSig   | std::vector<float>       | AsJagged(AsDtype('>f4'), he...\n",
      "trackBTag_Sip2dVal   | std::vector<float>       | AsJagged(AsDtype('>f4'), he...\n",
      "trackBTag_Sip3dSig   | std::vector<float>       | AsJagged(AsDtype('>f4'), he...\n",
      "trackBTag_Sip3dVal   | std::vector<float>       | AsJagged(AsDtype('>f4'), he...\n",
      "track_VTX_ass        | std::vector<float>       | AsJagged(AsDtype('>f4'), he...\n",
      "track_charge         | std::vector<float>       | AsJagged(AsDtype('>f4'), he...\n",
      "track_deltaR         | std::vector<float>       | AsJagged(AsDtype('>f4'), he...\n",
      "track_detadeta       | std::vector<float>       | AsJagged(AsDtype('>f4'), he...\n",
      "track_dlambdadz      | std::vector<float>       | AsJagged(AsDtype('>f4'), he...\n",
      "track_dphidphi       | std::vector<float>       | AsJagged(AsDtype('>f4'), he...\n",
      "track_dphidxy        | std::vector<float>       | AsJagged(AsDtype('>f4'), he...\n",
      "track_dptdpt         | std::vector<float>       | AsJagged(AsDtype('>f4'), he...\n",
      "track_drminsv        | std::vector<float>       | AsJagged(AsDtype('>f4'), he...\n",
      "track_drsubjet1      | std::vector<float>       | AsJagged(AsDtype('>f4'), he...\n",
      "track_drsubjet2      | std::vector<float>       | AsJagged(AsDtype('>f4'), he...\n",
      "track_dxy            | std::vector<float>       | AsJagged(AsDtype('>f4'), he...\n",
      "track_dxydxy         | std::vector<float>       | AsJagged(AsDtype('>f4'), he...\n",
      "track_dxydz          | std::vector<float>       | AsJagged(AsDtype('>f4'), he...\n",
      "track_dxysig         | std::vector<float>       | AsJagged(AsDtype('>f4'), he...\n",
      "track_dz             | std::vector<float>       | AsJagged(AsDtype('>f4'), he...\n",
      "track_dzdz           | std::vector<float>       | AsJagged(AsDtype('>f4'), he...\n",
      "track_dzsig          | std::vector<float>       | AsJagged(AsDtype('>f4'), he...\n",
      "track_erel           | std::vector<float>       | AsJagged(AsDtype('>f4'), he...\n",
      "track_etarel         | std::vector<float>       | AsJagged(AsDtype('>f4'), he...\n",
      "track_fromPV         | std::vector<float>       | AsJagged(AsDtype('>f4'), he...\n",
      "track_isChargedHad   | std::vector<float>       | AsJagged(AsDtype('>f4'), he...\n",
      "track_isEl           | std::vector<float>       | AsJagged(AsDtype('>f4'), he...\n",
      "track_isMu           | std::vector<float>       | AsJagged(AsDtype('>f4'), he...\n",
      "track_lostInnerHits  | std::vector<float>       | AsJagged(AsDtype('>f4'), he...\n",
      "track_mass           | std::vector<float>       | AsJagged(AsDtype('>f4'), he...\n",
      "track_normchi2       | std::vector<float>       | AsJagged(AsDtype('>f4'), he...\n",
      "track_phirel         | std::vector<float>       | AsJagged(AsDtype('>f4'), he...\n",
      "track_pt             | std::vector<float>       | AsJagged(AsDtype('>f4'), he...\n",
      "track_ptrel          | std::vector<float>       | AsJagged(AsDtype('>f4'), he...\n",
      "track_puppiw         | std::vector<float>       | AsJagged(AsDtype('>f4'), he...\n",
      "track_quality        | std::vector<float>       | AsJagged(AsDtype('>f4'), he...\n",
      "n_sv                 | int32_t                  | AsDtype('>i4')\n",
      "nsv                  | float                    | AsDtype('>f4')\n",
      "sv_chi2              | std::vector<float>       | AsJagged(AsDtype('>f4'), he...\n",
      "sv_costhetasvpv      | std::vector<float>       | AsJagged(AsDtype('>f4'), he...\n",
      "sv_d3d               | std::vector<float>       | AsJagged(AsDtype('>f4'), he...\n",
      "sv_d3derr            | std::vector<float>       | AsJagged(AsDtype('>f4'), he...\n",
      "sv_d3dsig            | std::vector<float>       | AsJagged(AsDtype('>f4'), he...\n",
      "sv_deltaR            | std::vector<float>       | AsJagged(AsDtype('>f4'), he...\n",
      "sv_dxy               | std::vector<float>       | AsJagged(AsDtype('>f4'), he...\n",
      "sv_dxyerr            | std::vector<float>       | AsJagged(AsDtype('>f4'), he...\n",
      "sv_dxysig            | std::vector<float>       | AsJagged(AsDtype('>f4'), he...\n",
      "sv_erel              | std::vector<float>       | AsJagged(AsDtype('>f4'), he...\n",
      "sv_etarel            | std::vector<float>       | AsJagged(AsDtype('>f4'), he...\n",
      "sv_mass              | std::vector<float>       | AsJagged(AsDtype('>f4'), he...\n",
      "sv_ndf               | std::vector<float>       | AsJagged(AsDtype('>f4'), he...\n",
      "sv_normchi2          | std::vector<float>       | AsJagged(AsDtype('>f4'), he...\n",
      "sv_ntracks           | std::vector<float>       | AsJagged(AsDtype('>f4'), he...\n",
      "sv_phirel            | std::vector<float>       | AsJagged(AsDtype('>f4'), he...\n",
      "sv_pt                | std::vector<float>       | AsJagged(AsDtype('>f4'), he...\n",
      "sv_ptrel             | std::vector<float>       | AsJagged(AsDtype('>f4'), he...\n"
     ]
    }
   ],
   "source": [
    "url = testList[0]\n",
    "# open and read root files online\n",
    "root_f = uproot.open(url)\n",
    "tree = root_f['deepntuplizer/tree']\n",
    "tree.show()"
   ]
  },
  {
   "cell_type": "markdown",
   "metadata": {},
   "source": [
    "Creating dataset for training feature group 0"
   ]
  },
  {
   "cell_type": "code",
   "execution_count": 10,
   "metadata": {},
   "outputs": [
    {
     "data": {
      "text/plain": [
       "<HDF5 dataset \"training_0\": shape (200000,), type \"|V216\">"
      ]
     },
     "execution_count": 10,
     "metadata": {},
     "output_type": "execute_result"
    }
   ],
   "source": [
    "ftrs_0_arr = tree.arrays(ftrs_0)\n",
    "ftrs_0_arr = ak.values_astype(ftrs_0_arr, float)\n",
    "training_data.create_dataset(\"training_0\", data=ftrs_0_arr)"
   ]
  },
  {
   "cell_type": "markdown",
   "metadata": {},
   "source": [
    "Creating dataset for training feature group 1"
   ]
  },
  {
   "cell_type": "code",
   "execution_count": 11,
   "metadata": {
    "scrolled": false
   },
   "outputs": [],
   "source": [
    "ftrs_1_ak = tree.arrays(ftrs_1, library='ak')\n",
    "ftrs_1_ak = ak.pad_none(ftrs_1_ak, axis=1, target=100, clip=True)\n",
    "ftrs_1_ak = ak.fill_none(ftrs_1_ak, axis=1, value=0.0)\n",
    "\n",
    "ftrs_1_arr = np.zeros(shape=(200000, len(ftrs_1), 100), dtype=float)\n",
    "for i, field in enumerate(ftrs_1_ak.fields):\n",
    "    ftrs_1_arr[:,i] = ftrs_1_ak[field].to_numpy()"
   ]
  },
  {
   "cell_type": "code",
   "execution_count": 12,
   "metadata": {},
   "outputs": [
    {
     "data": {
      "text/plain": [
       "<HDF5 dataset \"training_1\": shape (200000, 10, 100), type \"<f8\">"
      ]
     },
     "execution_count": 12,
     "metadata": {},
     "output_type": "execute_result"
    }
   ],
   "source": [
    "training_data.create_dataset(\"training_1\", data=ftrs_1_arr)"
   ]
  },
  {
   "cell_type": "markdown",
   "metadata": {},
   "source": [
    "Creating dataset for training feature group 2"
   ]
  },
  {
   "cell_type": "code",
   "execution_count": 13,
   "metadata": {},
   "outputs": [
    {
     "ename": "OSError",
     "evalue": "XRootD error: [ERROR] Operation expired\nin file root://eospublic.cern.ch//eos/opendata/cms/datascience/HiggsToBBNtupleProducerTool/HiggsToBBNTuple_HiggsToBB_QCD_RunII_13TeV_MC/train/ntuple_merged_10.root",
     "output_type": "error",
     "traceback": [
      "\u001b[0;31m---------------------------------------------------------------------------\u001b[0m",
      "\u001b[0;31mOSError\u001b[0m                                   Traceback (most recent call last)",
      "Input \u001b[0;32mIn [13]\u001b[0m, in \u001b[0;36m<cell line: 1>\u001b[0;34m()\u001b[0m\n\u001b[0;32m----> 1\u001b[0m ftrs_2_ak \u001b[38;5;241m=\u001b[39m \u001b[43mtree\u001b[49m\u001b[38;5;241;43m.\u001b[39;49m\u001b[43marrays\u001b[49m\u001b[43m(\u001b[49m\u001b[43mftrs_2\u001b[49m\u001b[43m,\u001b[49m\u001b[43m \u001b[49m\u001b[43mlibrary\u001b[49m\u001b[38;5;241;43m=\u001b[39;49m\u001b[38;5;124;43m'\u001b[39;49m\u001b[38;5;124;43mak\u001b[39;49m\u001b[38;5;124;43m'\u001b[39;49m\u001b[43m)\u001b[49m\n\u001b[1;32m      2\u001b[0m ftrs_2_ak \u001b[38;5;241m=\u001b[39m ak\u001b[38;5;241m.\u001b[39mpad_none(ftrs_2_ak, axis\u001b[38;5;241m=\u001b[39m\u001b[38;5;241m1\u001b[39m, target\u001b[38;5;241m=\u001b[39m\u001b[38;5;241m60\u001b[39m, clip\u001b[38;5;241m=\u001b[39m\u001b[38;5;28;01mTrue\u001b[39;00m)\n\u001b[1;32m      3\u001b[0m ftrs_2_ak \u001b[38;5;241m=\u001b[39m ak\u001b[38;5;241m.\u001b[39mfill_none(ftrs_2_ak, axis\u001b[38;5;241m=\u001b[39m\u001b[38;5;241m1\u001b[39m, value\u001b[38;5;241m=\u001b[39m\u001b[38;5;241m0.0\u001b[39m)\n",
      "File \u001b[0;32m~/.local/lib/python3.10/site-packages/uproot/behaviors/TBranch.py:1257\u001b[0m, in \u001b[0;36mHasBranches.arrays\u001b[0;34m(self, expressions, cut, filter_name, filter_typename, filter_branch, aliases, language, entry_start, entry_stop, decompression_executor, interpretation_executor, array_cache, library, how)\u001b[0m\n\u001b[1;32m   1251\u001b[0m             \u001b[38;5;28;01mfor\u001b[39;00m (\n\u001b[1;32m   1252\u001b[0m                 basket_num,\n\u001b[1;32m   1253\u001b[0m                 range_or_basket,\n\u001b[1;32m   1254\u001b[0m             ) \u001b[38;5;129;01min\u001b[39;00m branch\u001b[38;5;241m.\u001b[39mentries_to_ranges_or_baskets(entry_start, entry_stop):\n\u001b[1;32m   1255\u001b[0m                 ranges_or_baskets\u001b[38;5;241m.\u001b[39mappend((branch, basket_num, range_or_basket))\n\u001b[0;32m-> 1257\u001b[0m \u001b[43m_ranges_or_baskets_to_arrays\u001b[49m\u001b[43m(\u001b[49m\n\u001b[1;32m   1258\u001b[0m \u001b[43m    \u001b[49m\u001b[38;5;28;43mself\u001b[39;49m\u001b[43m,\u001b[49m\n\u001b[1;32m   1259\u001b[0m \u001b[43m    \u001b[49m\u001b[43mranges_or_baskets\u001b[49m\u001b[43m,\u001b[49m\n\u001b[1;32m   1260\u001b[0m \u001b[43m    \u001b[49m\u001b[43mbranchid_interpretation\u001b[49m\u001b[43m,\u001b[49m\n\u001b[1;32m   1261\u001b[0m \u001b[43m    \u001b[49m\u001b[43mentry_start\u001b[49m\u001b[43m,\u001b[49m\n\u001b[1;32m   1262\u001b[0m \u001b[43m    \u001b[49m\u001b[43mentry_stop\u001b[49m\u001b[43m,\u001b[49m\n\u001b[1;32m   1263\u001b[0m \u001b[43m    \u001b[49m\u001b[43mdecompression_executor\u001b[49m\u001b[43m,\u001b[49m\n\u001b[1;32m   1264\u001b[0m \u001b[43m    \u001b[49m\u001b[43minterpretation_executor\u001b[49m\u001b[43m,\u001b[49m\n\u001b[1;32m   1265\u001b[0m \u001b[43m    \u001b[49m\u001b[43mlibrary\u001b[49m\u001b[43m,\u001b[49m\n\u001b[1;32m   1266\u001b[0m \u001b[43m    \u001b[49m\u001b[43marrays\u001b[49m\u001b[43m,\u001b[49m\n\u001b[1;32m   1267\u001b[0m \u001b[43m    \u001b[49m\u001b[38;5;28;43;01mFalse\u001b[39;49;00m\u001b[43m,\u001b[49m\n\u001b[1;32m   1268\u001b[0m \u001b[43m\u001b[49m\u001b[43m)\u001b[49m\n\u001b[1;32m   1270\u001b[0m \u001b[38;5;66;03m# no longer needed; save memory\u001b[39;00m\n\u001b[1;32m   1271\u001b[0m \u001b[38;5;28;01mdel\u001b[39;00m ranges_or_baskets\n",
      "File \u001b[0;32m~/.local/lib/python3.10/site-packages/uproot/behaviors/TBranch.py:3495\u001b[0m, in \u001b[0;36m_ranges_or_baskets_to_arrays\u001b[0;34m(hasbranches, ranges_or_baskets, branchid_interpretation, entry_start, entry_stop, decompression_executor, interpretation_executor, library, arrays, update_ranges_or_baskets)\u001b[0m\n\u001b[1;32m   3492\u001b[0m     \u001b[38;5;28;01mpass\u001b[39;00m\n\u001b[1;32m   3494\u001b[0m \u001b[38;5;28;01melif\u001b[39;00m \u001b[38;5;28misinstance\u001b[39m(obj, \u001b[38;5;28mtuple\u001b[39m) \u001b[38;5;129;01mand\u001b[39;00m \u001b[38;5;28mlen\u001b[39m(obj) \u001b[38;5;241m==\u001b[39m \u001b[38;5;241m3\u001b[39m:\n\u001b[0;32m-> 3495\u001b[0m     \u001b[43muproot\u001b[49m\u001b[38;5;241;43m.\u001b[39;49m\u001b[43msource\u001b[49m\u001b[38;5;241;43m.\u001b[39;49m\u001b[43mfutures\u001b[49m\u001b[38;5;241;43m.\u001b[39;49m\u001b[43mdelayed_raise\u001b[49m\u001b[43m(\u001b[49m\u001b[38;5;241;43m*\u001b[39;49m\u001b[43mobj\u001b[49m\u001b[43m)\u001b[49m\n\u001b[1;32m   3497\u001b[0m \u001b[38;5;28;01melse\u001b[39;00m:\n\u001b[1;32m   3498\u001b[0m     \u001b[38;5;28;01mraise\u001b[39;00m \u001b[38;5;167;01mAssertionError\u001b[39;00m(obj)\n",
      "File \u001b[0;32m~/.local/lib/python3.10/site-packages/uproot/source/futures.py:36\u001b[0m, in \u001b[0;36mdelayed_raise\u001b[0;34m(exception_class, exception_value, traceback)\u001b[0m\n\u001b[1;32m     32\u001b[0m \u001b[38;5;28;01mdef\u001b[39;00m \u001b[38;5;21mdelayed_raise\u001b[39m(exception_class, exception_value, traceback):\n\u001b[1;32m     33\u001b[0m     \u001b[38;5;124;03m\"\"\"\u001b[39;00m\n\u001b[1;32m     34\u001b[0m \u001b[38;5;124;03m    Raise an exception from a background thread on the main thread.\u001b[39;00m\n\u001b[1;32m     35\u001b[0m \u001b[38;5;124;03m    \"\"\"\u001b[39;00m\n\u001b[0;32m---> 36\u001b[0m     \u001b[38;5;28;01mraise\u001b[39;00m exception_value\u001b[38;5;241m.\u001b[39mwith_traceback(traceback)\n",
      "File \u001b[0;32m~/.local/lib/python3.10/site-packages/uproot/behaviors/TBranch.py:3416\u001b[0m, in \u001b[0;36m_ranges_or_baskets_to_arrays.<locals>.chunk_to_basket\u001b[0;34m(chunk, branch, basket_num)\u001b[0m\n\u001b[1;32m   3414\u001b[0m \u001b[38;5;28;01mtry\u001b[39;00m:\n\u001b[1;32m   3415\u001b[0m     cursor \u001b[38;5;241m=\u001b[39m uproot\u001b[38;5;241m.\u001b[39msource\u001b[38;5;241m.\u001b[39mcursor\u001b[38;5;241m.\u001b[39mCursor(chunk\u001b[38;5;241m.\u001b[39mstart)\n\u001b[0;32m-> 3416\u001b[0m     basket \u001b[38;5;241m=\u001b[39m \u001b[43muproot\u001b[49m\u001b[38;5;241;43m.\u001b[39;49m\u001b[43mmodels\u001b[49m\u001b[38;5;241;43m.\u001b[39;49m\u001b[43mTBasket\u001b[49m\u001b[38;5;241;43m.\u001b[39;49m\u001b[43mModel_TBasket\u001b[49m\u001b[38;5;241;43m.\u001b[39;49m\u001b[43mread\u001b[49m\u001b[43m(\u001b[49m\n\u001b[1;32m   3417\u001b[0m \u001b[43m        \u001b[49m\u001b[43mchunk\u001b[49m\u001b[43m,\u001b[49m\n\u001b[1;32m   3418\u001b[0m \u001b[43m        \u001b[49m\u001b[43mcursor\u001b[49m\u001b[43m,\u001b[49m\n\u001b[1;32m   3419\u001b[0m \u001b[43m        \u001b[49m\u001b[43m{\u001b[49m\u001b[38;5;124;43m\"\u001b[39;49m\u001b[38;5;124;43mbasket_num\u001b[39;49m\u001b[38;5;124;43m\"\u001b[39;49m\u001b[43m:\u001b[49m\u001b[43m \u001b[49m\u001b[43mbasket_num\u001b[49m\u001b[43m}\u001b[49m\u001b[43m,\u001b[49m\n\u001b[1;32m   3420\u001b[0m \u001b[43m        \u001b[49m\u001b[43mhasbranches\u001b[49m\u001b[38;5;241;43m.\u001b[39;49m\u001b[43m_file\u001b[49m\u001b[43m,\u001b[49m\n\u001b[1;32m   3421\u001b[0m \u001b[43m        \u001b[49m\u001b[43mhasbranches\u001b[49m\u001b[38;5;241;43m.\u001b[39;49m\u001b[43m_file\u001b[49m\u001b[43m,\u001b[49m\n\u001b[1;32m   3422\u001b[0m \u001b[43m        \u001b[49m\u001b[43mbranch\u001b[49m\u001b[43m,\u001b[49m\n\u001b[1;32m   3423\u001b[0m \u001b[43m    \u001b[49m\u001b[43m)\u001b[49m\n\u001b[1;32m   3424\u001b[0m     original_index \u001b[38;5;241m=\u001b[39m range_original_index[(chunk\u001b[38;5;241m.\u001b[39mstart, chunk\u001b[38;5;241m.\u001b[39mstop)]\n\u001b[1;32m   3425\u001b[0m     \u001b[38;5;28;01mif\u001b[39;00m update_ranges_or_baskets:\n",
      "File \u001b[0;32m~/.local/lib/python3.10/site-packages/uproot/model.py:806\u001b[0m, in \u001b[0;36mModel.read\u001b[0;34m(cls, chunk, cursor, context, file, selffile, parent, concrete)\u001b[0m\n\u001b[1;32m    801\u001b[0m \u001b[38;5;28;01mif\u001b[39;00m context\u001b[38;5;241m.\u001b[39mget(\u001b[38;5;124m\"\u001b[39m\u001b[38;5;124mreading\u001b[39m\u001b[38;5;124m\"\u001b[39m, \u001b[38;5;28;01mTrue\u001b[39;00m):\n\u001b[1;32m    802\u001b[0m     \u001b[38;5;28mself\u001b[39m\u001b[38;5;241m.\u001b[39mhook_before_read_members(\n\u001b[1;32m    803\u001b[0m         chunk\u001b[38;5;241m=\u001b[39mchunk, cursor\u001b[38;5;241m=\u001b[39mcursor, context\u001b[38;5;241m=\u001b[39mcontext, file\u001b[38;5;241m=\u001b[39mfile\n\u001b[1;32m    804\u001b[0m     )\n\u001b[0;32m--> 806\u001b[0m     \u001b[38;5;28;43mself\u001b[39;49m\u001b[38;5;241;43m.\u001b[39;49m\u001b[43mread_members\u001b[49m\u001b[43m(\u001b[49m\u001b[43mchunk\u001b[49m\u001b[43m,\u001b[49m\u001b[43m \u001b[49m\u001b[43mcursor\u001b[49m\u001b[43m,\u001b[49m\u001b[43m \u001b[49m\u001b[43mcontext\u001b[49m\u001b[43m,\u001b[49m\u001b[43m \u001b[49m\u001b[43mfile\u001b[49m\u001b[43m)\u001b[49m\n\u001b[1;32m    808\u001b[0m     \u001b[38;5;28mself\u001b[39m\u001b[38;5;241m.\u001b[39mhook_after_read_members(\n\u001b[1;32m    809\u001b[0m         chunk\u001b[38;5;241m=\u001b[39mchunk, cursor\u001b[38;5;241m=\u001b[39mcursor, context\u001b[38;5;241m=\u001b[39mcontext, file\u001b[38;5;241m=\u001b[39mfile\n\u001b[1;32m    810\u001b[0m     )\n\u001b[1;32m    812\u001b[0m \u001b[38;5;28mself\u001b[39m\u001b[38;5;241m.\u001b[39mcheck_numbytes(chunk, cursor, context)\n",
      "File \u001b[0;32m~/.local/lib/python3.10/site-packages/uproot/models/TBasket.py:223\u001b[0m, in \u001b[0;36mModel_TBasket.read_members\u001b[0;34m(self, chunk, cursor, context, file)\u001b[0m\n\u001b[1;32m    213\u001b[0m \u001b[38;5;28;01massert\u001b[39;00m \u001b[38;5;28misinstance\u001b[39m(\u001b[38;5;28mself\u001b[39m\u001b[38;5;241m.\u001b[39m_parent, uproot\u001b[38;5;241m.\u001b[39mbehaviors\u001b[38;5;241m.\u001b[39mTBranch\u001b[38;5;241m.\u001b[39mTBranch)\n\u001b[1;32m    214\u001b[0m \u001b[38;5;28mself\u001b[39m\u001b[38;5;241m.\u001b[39m_basket_num \u001b[38;5;241m=\u001b[39m context\u001b[38;5;241m.\u001b[39mget(\u001b[38;5;124m\"\u001b[39m\u001b[38;5;124mbasket_num\u001b[39m\u001b[38;5;124m\"\u001b[39m)\n\u001b[1;32m    216\u001b[0m (\n\u001b[1;32m    217\u001b[0m     \u001b[38;5;28mself\u001b[39m\u001b[38;5;241m.\u001b[39m_members[\u001b[38;5;124m\"\u001b[39m\u001b[38;5;124mfNbytes\u001b[39m\u001b[38;5;124m\"\u001b[39m],\n\u001b[1;32m    218\u001b[0m     \u001b[38;5;28mself\u001b[39m\u001b[38;5;241m.\u001b[39m_key_version,\n\u001b[1;32m    219\u001b[0m     \u001b[38;5;28mself\u001b[39m\u001b[38;5;241m.\u001b[39m_members[\u001b[38;5;124m\"\u001b[39m\u001b[38;5;124mfObjlen\u001b[39m\u001b[38;5;124m\"\u001b[39m],\n\u001b[1;32m    220\u001b[0m     \u001b[38;5;28mself\u001b[39m\u001b[38;5;241m.\u001b[39m_members[\u001b[38;5;124m\"\u001b[39m\u001b[38;5;124mfDatime\u001b[39m\u001b[38;5;124m\"\u001b[39m],\n\u001b[1;32m    221\u001b[0m     \u001b[38;5;28mself\u001b[39m\u001b[38;5;241m.\u001b[39m_members[\u001b[38;5;124m\"\u001b[39m\u001b[38;5;124mfKeylen\u001b[39m\u001b[38;5;124m\"\u001b[39m],\n\u001b[1;32m    222\u001b[0m     \u001b[38;5;28mself\u001b[39m\u001b[38;5;241m.\u001b[39m_members[\u001b[38;5;124m\"\u001b[39m\u001b[38;5;124mfCycle\u001b[39m\u001b[38;5;124m\"\u001b[39m],\n\u001b[0;32m--> 223\u001b[0m ) \u001b[38;5;241m=\u001b[39m \u001b[43mcursor\u001b[49m\u001b[38;5;241;43m.\u001b[39;49m\u001b[43mfields\u001b[49m\u001b[43m(\u001b[49m\u001b[43mchunk\u001b[49m\u001b[43m,\u001b[49m\u001b[43m \u001b[49m\u001b[43m_tbasket_format1\u001b[49m\u001b[43m,\u001b[49m\u001b[43m \u001b[49m\u001b[43mcontext\u001b[49m\u001b[43m)\u001b[49m\n\u001b[1;32m    225\u001b[0m \u001b[38;5;66;03m# skip the class name, name, and title\u001b[39;00m\n\u001b[1;32m    226\u001b[0m cursor\u001b[38;5;241m.\u001b[39mmove_to(\n\u001b[1;32m    227\u001b[0m     \u001b[38;5;28mself\u001b[39m\u001b[38;5;241m.\u001b[39m_cursor\u001b[38;5;241m.\u001b[39mindex \u001b[38;5;241m+\u001b[39m \u001b[38;5;28mself\u001b[39m\u001b[38;5;241m.\u001b[39m_members[\u001b[38;5;124m\"\u001b[39m\u001b[38;5;124mfKeylen\u001b[39m\u001b[38;5;124m\"\u001b[39m] \u001b[38;5;241m-\u001b[39m _tbasket_format2\u001b[38;5;241m.\u001b[39msize \u001b[38;5;241m-\u001b[39m \u001b[38;5;241m1\u001b[39m\n\u001b[1;32m    228\u001b[0m )\n",
      "File \u001b[0;32m~/.local/lib/python3.10/site-packages/uproot/source/cursor.py:197\u001b[0m, in \u001b[0;36mCursor.fields\u001b[0;34m(self, chunk, format, context, move)\u001b[0m\n\u001b[1;32m    195\u001b[0m \u001b[38;5;28;01mif\u001b[39;00m move:\n\u001b[1;32m    196\u001b[0m     \u001b[38;5;28mself\u001b[39m\u001b[38;5;241m.\u001b[39m_index \u001b[38;5;241m=\u001b[39m stop\n\u001b[0;32m--> 197\u001b[0m \u001b[38;5;28;01mreturn\u001b[39;00m \u001b[38;5;28mformat\u001b[39m\u001b[38;5;241m.\u001b[39munpack(\u001b[43mchunk\u001b[49m\u001b[38;5;241;43m.\u001b[39;49m\u001b[43mget\u001b[49m\u001b[43m(\u001b[49m\u001b[43mstart\u001b[49m\u001b[43m,\u001b[49m\u001b[43m \u001b[49m\u001b[43mstop\u001b[49m\u001b[43m,\u001b[49m\u001b[43m \u001b[49m\u001b[38;5;28;43mself\u001b[39;49m\u001b[43m,\u001b[49m\u001b[43m \u001b[49m\u001b[43mcontext\u001b[49m\u001b[43m)\u001b[49m)\n",
      "File \u001b[0;32m~/.local/lib/python3.10/site-packages/uproot/source/chunk.py:419\u001b[0m, in \u001b[0;36mChunk.get\u001b[0;34m(self, start, stop, cursor, context)\u001b[0m\n\u001b[1;32m    397\u001b[0m \u001b[38;5;124;03m\"\"\"\u001b[39;00m\n\u001b[1;32m    398\u001b[0m \u001b[38;5;124;03mArgs:\u001b[39;00m\n\u001b[1;32m    399\u001b[0m \u001b[38;5;124;03m    start (int): Seek position of the first byte to include.\u001b[39;00m\n\u001b[0;32m   (...)\u001b[0m\n\u001b[1;32m    416\u001b[0m \u001b[38;5;124;03malready.\u001b[39;00m\n\u001b[1;32m    417\u001b[0m \u001b[38;5;124;03m\"\"\"\u001b[39;00m\n\u001b[1;32m    418\u001b[0m \u001b[38;5;28;01mif\u001b[39;00m (start, stop) \u001b[38;5;129;01min\u001b[39;00m \u001b[38;5;28mself\u001b[39m:\n\u001b[0;32m--> 419\u001b[0m     \u001b[38;5;28;43mself\u001b[39;49m\u001b[38;5;241;43m.\u001b[39;49m\u001b[43mwait\u001b[49m\u001b[43m(\u001b[49m\u001b[43minsist\u001b[49m\u001b[38;5;241;43m=\u001b[39;49m\u001b[43mstop\u001b[49m\u001b[43m)\u001b[49m\n\u001b[1;32m    420\u001b[0m     local_start \u001b[38;5;241m=\u001b[39m start \u001b[38;5;241m-\u001b[39m \u001b[38;5;28mself\u001b[39m\u001b[38;5;241m.\u001b[39m_start\n\u001b[1;32m    421\u001b[0m     local_stop \u001b[38;5;241m=\u001b[39m stop \u001b[38;5;241m-\u001b[39m \u001b[38;5;28mself\u001b[39m\u001b[38;5;241m.\u001b[39m_start\n",
      "File \u001b[0;32m~/.local/lib/python3.10/site-packages/uproot/source/chunk.py:356\u001b[0m, in \u001b[0;36mChunk.wait\u001b[0;34m(self, insist)\u001b[0m\n\u001b[1;32m    345\u001b[0m \u001b[38;5;124;03m\"\"\"\u001b[39;00m\n\u001b[1;32m    346\u001b[0m \u001b[38;5;124;03mArgs:\u001b[39;00m\n\u001b[1;32m    347\u001b[0m \u001b[38;5;124;03m    insist (bool or int): If True, raise an OSError if ``raw_data`` does\u001b[39;00m\n\u001b[0;32m   (...)\u001b[0m\n\u001b[1;32m    353\u001b[0m \u001b[38;5;124;03m:ref:`uproot.source.chunk.Chunk.future` completes).\u001b[39;00m\n\u001b[1;32m    354\u001b[0m \u001b[38;5;124;03m\"\"\"\u001b[39;00m\n\u001b[1;32m    355\u001b[0m \u001b[38;5;28;01mif\u001b[39;00m \u001b[38;5;28mself\u001b[39m\u001b[38;5;241m.\u001b[39m_raw_data \u001b[38;5;129;01mis\u001b[39;00m \u001b[38;5;28;01mNone\u001b[39;00m:\n\u001b[0;32m--> 356\u001b[0m     \u001b[38;5;28mself\u001b[39m\u001b[38;5;241m.\u001b[39m_raw_data \u001b[38;5;241m=\u001b[39m numpy\u001b[38;5;241m.\u001b[39mfrombuffer(\u001b[38;5;28;43mself\u001b[39;49m\u001b[38;5;241;43m.\u001b[39;49m\u001b[43m_future\u001b[49m\u001b[38;5;241;43m.\u001b[39;49m\u001b[43mresult\u001b[49m\u001b[43m(\u001b[49m\u001b[43m)\u001b[49m, dtype\u001b[38;5;241m=\u001b[39m\u001b[38;5;28mself\u001b[39m\u001b[38;5;241m.\u001b[39m_dtype)\n\u001b[1;32m    357\u001b[0m     \u001b[38;5;28;01mif\u001b[39;00m insist \u001b[38;5;129;01mis\u001b[39;00m \u001b[38;5;28;01mTrue\u001b[39;00m:\n\u001b[1;32m    358\u001b[0m         requirement \u001b[38;5;241m=\u001b[39m \u001b[38;5;28mlen\u001b[39m(\u001b[38;5;28mself\u001b[39m\u001b[38;5;241m.\u001b[39m_raw_data) \u001b[38;5;241m==\u001b[39m \u001b[38;5;28mself\u001b[39m\u001b[38;5;241m.\u001b[39m_stop \u001b[38;5;241m-\u001b[39m \u001b[38;5;28mself\u001b[39m\u001b[38;5;241m.\u001b[39m_start\n",
      "File \u001b[0;32m~/.local/lib/python3.10/site-packages/uproot/source/futures.py:116\u001b[0m, in \u001b[0;36mFuture.result\u001b[0;34m(self, timeout)\u001b[0m\n\u001b[1;32m    114\u001b[0m     \u001b[38;5;28;01mreturn\u001b[39;00m \u001b[38;5;28mself\u001b[39m\u001b[38;5;241m.\u001b[39m_result\n\u001b[1;32m    115\u001b[0m \u001b[38;5;28;01melse\u001b[39;00m:\n\u001b[0;32m--> 116\u001b[0m     \u001b[43mdelayed_raise\u001b[49m\u001b[43m(\u001b[49m\u001b[38;5;241;43m*\u001b[39;49m\u001b[38;5;28;43mself\u001b[39;49m\u001b[38;5;241;43m.\u001b[39;49m\u001b[43m_excinfo\u001b[49m\u001b[43m)\u001b[49m\n",
      "File \u001b[0;32m~/.local/lib/python3.10/site-packages/uproot/source/futures.py:36\u001b[0m, in \u001b[0;36mdelayed_raise\u001b[0;34m(exception_class, exception_value, traceback)\u001b[0m\n\u001b[1;32m     32\u001b[0m \u001b[38;5;28;01mdef\u001b[39;00m \u001b[38;5;21mdelayed_raise\u001b[39m(exception_class, exception_value, traceback):\n\u001b[1;32m     33\u001b[0m     \u001b[38;5;124;03m\"\"\"\u001b[39;00m\n\u001b[1;32m     34\u001b[0m \u001b[38;5;124;03m    Raise an exception from a background thread on the main thread.\u001b[39;00m\n\u001b[1;32m     35\u001b[0m \u001b[38;5;124;03m    \"\"\"\u001b[39;00m\n\u001b[0;32m---> 36\u001b[0m     \u001b[38;5;28;01mraise\u001b[39;00m exception_value\u001b[38;5;241m.\u001b[39mwith_traceback(traceback)\n",
      "File \u001b[0;32m~/.local/lib/python3.10/site-packages/uproot/source/futures.py:278\u001b[0m, in \u001b[0;36mResourceFuture._run\u001b[0;34m(self, resource)\u001b[0m\n\u001b[1;32m    276\u001b[0m \u001b[38;5;28;01mdef\u001b[39;00m \u001b[38;5;21m_run\u001b[39m(\u001b[38;5;28mself\u001b[39m, resource):\n\u001b[1;32m    277\u001b[0m     \u001b[38;5;28;01mtry\u001b[39;00m:\n\u001b[0;32m--> 278\u001b[0m         \u001b[38;5;28mself\u001b[39m\u001b[38;5;241m.\u001b[39m_result \u001b[38;5;241m=\u001b[39m \u001b[38;5;28;43mself\u001b[39;49m\u001b[38;5;241;43m.\u001b[39;49m\u001b[43m_task\u001b[49m\u001b[43m(\u001b[49m\u001b[43mresource\u001b[49m\u001b[43m)\u001b[49m\n\u001b[1;32m    279\u001b[0m     \u001b[38;5;28;01mexcept\u001b[39;00m \u001b[38;5;167;01mException\u001b[39;00m:\n\u001b[1;32m    280\u001b[0m         \u001b[38;5;28mself\u001b[39m\u001b[38;5;241m.\u001b[39m_excinfo \u001b[38;5;241m=\u001b[39m sys\u001b[38;5;241m.\u001b[39mexc_info()\n",
      "File \u001b[0;32m~/.local/lib/python3.10/site-packages/uproot/source/xrootd.py:218\u001b[0m, in \u001b[0;36mXRootDResource.mergefuture.<locals>.task\u001b[0;34m(resource)\u001b[0m\n\u001b[1;32m    216\u001b[0m \u001b[38;5;28;01mdef\u001b[39;00m \u001b[38;5;21mtask\u001b[39m(resource):\n\u001b[1;32m    217\u001b[0m     \u001b[38;5;28;01mif\u001b[39;00m \u001b[38;5;28mlen\u001b[39m(partfutures) \u001b[38;5;241m==\u001b[39m \u001b[38;5;241m1\u001b[39m:\n\u001b[0;32m--> 218\u001b[0m         \u001b[38;5;28;01mreturn\u001b[39;00m \u001b[43mpartfutures\u001b[49m\u001b[43m[\u001b[49m\u001b[38;5;241;43m0\u001b[39;49m\u001b[43m]\u001b[49m\u001b[38;5;241;43m.\u001b[39;49m\u001b[43mresult\u001b[49m\u001b[43m(\u001b[49m\u001b[43m)\u001b[49m\n\u001b[1;32m    220\u001b[0m     chunk_buffers \u001b[38;5;241m=\u001b[39m []\n\u001b[1;32m    221\u001b[0m     \u001b[38;5;28;01mfor\u001b[39;00m future \u001b[38;5;129;01min\u001b[39;00m partfutures:\n",
      "File \u001b[0;32m~/.local/lib/python3.10/site-packages/uproot/source/futures.py:116\u001b[0m, in \u001b[0;36mFuture.result\u001b[0;34m(self, timeout)\u001b[0m\n\u001b[1;32m    114\u001b[0m     \u001b[38;5;28;01mreturn\u001b[39;00m \u001b[38;5;28mself\u001b[39m\u001b[38;5;241m.\u001b[39m_result\n\u001b[1;32m    115\u001b[0m \u001b[38;5;28;01melse\u001b[39;00m:\n\u001b[0;32m--> 116\u001b[0m     \u001b[43mdelayed_raise\u001b[49m\u001b[43m(\u001b[49m\u001b[38;5;241;43m*\u001b[39;49m\u001b[38;5;28;43mself\u001b[39;49m\u001b[38;5;241;43m.\u001b[39;49m\u001b[43m_excinfo\u001b[49m\u001b[43m)\u001b[49m\n",
      "File \u001b[0;32m~/.local/lib/python3.10/site-packages/uproot/source/futures.py:36\u001b[0m, in \u001b[0;36mdelayed_raise\u001b[0;34m(exception_class, exception_value, traceback)\u001b[0m\n\u001b[1;32m     32\u001b[0m \u001b[38;5;28;01mdef\u001b[39;00m \u001b[38;5;21mdelayed_raise\u001b[39m(exception_class, exception_value, traceback):\n\u001b[1;32m     33\u001b[0m     \u001b[38;5;124;03m\"\"\"\u001b[39;00m\n\u001b[1;32m     34\u001b[0m \u001b[38;5;124;03m    Raise an exception from a background thread on the main thread.\u001b[39;00m\n\u001b[1;32m     35\u001b[0m \u001b[38;5;124;03m    \"\"\"\u001b[39;00m\n\u001b[0;32m---> 36\u001b[0m     \u001b[38;5;28;01mraise\u001b[39;00m exception_value\u001b[38;5;241m.\u001b[39mwith_traceback(traceback)\n",
      "File \u001b[0;32m~/.local/lib/python3.10/site-packages/uproot/source/xrootd.py:236\u001b[0m, in \u001b[0;36mXRootDResource.callbacker.<locals>.callback\u001b[0;34m(status, response, hosts)\u001b[0m\n\u001b[1;32m    234\u001b[0m \u001b[38;5;28;01mif\u001b[39;00m status\u001b[38;5;241m.\u001b[39merror:\n\u001b[1;32m    235\u001b[0m     \u001b[38;5;28;01mtry\u001b[39;00m:\n\u001b[0;32m--> 236\u001b[0m         \u001b[38;5;28;43mself\u001b[39;49m\u001b[38;5;241;43m.\u001b[39;49m\u001b[43m_xrd_error\u001b[49m\u001b[43m(\u001b[49m\u001b[43mstatus\u001b[49m\u001b[43m)\u001b[49m\n\u001b[1;32m    237\u001b[0m     \u001b[38;5;28;01mexcept\u001b[39;00m \u001b[38;5;167;01mException\u001b[39;00m:\n\u001b[1;32m    238\u001b[0m         excinfo \u001b[38;5;241m=\u001b[39m sys\u001b[38;5;241m.\u001b[39mexc_info()\n",
      "File \u001b[0;32m~/.local/lib/python3.10/site-packages/uproot/source/xrootd.py:118\u001b[0m, in \u001b[0;36mXRootDResource._xrd_error\u001b[0;34m(self, status)\u001b[0m\n\u001b[1;32m    115\u001b[0m             \u001b[38;5;28;01mraise\u001b[39;00m uproot\u001b[38;5;241m.\u001b[39m_util\u001b[38;5;241m.\u001b[39m_file_not_found(\u001b[38;5;28mself\u001b[39m\u001b[38;5;241m.\u001b[39m_file_path, status\u001b[38;5;241m.\u001b[39mmessage)\n\u001b[1;32m    117\u001b[0m         \u001b[38;5;28;01melse\u001b[39;00m:\n\u001b[0;32m--> 118\u001b[0m             \u001b[38;5;28;01mraise\u001b[39;00m \u001b[38;5;167;01mOSError\u001b[39;00m(\n\u001b[1;32m    119\u001b[0m                 \u001b[38;5;124;03m\"\"\"XRootD error: {}\u001b[39;00m\n\u001b[1;32m    120\u001b[0m \u001b[38;5;124;03min file {}\"\"\"\u001b[39;00m\u001b[38;5;241m.\u001b[39mformat(\n\u001b[1;32m    121\u001b[0m                     status\u001b[38;5;241m.\u001b[39mmessage, \u001b[38;5;28mself\u001b[39m\u001b[38;5;241m.\u001b[39m_file_path\n\u001b[1;32m    122\u001b[0m                 )\n\u001b[1;32m    123\u001b[0m             )\n",
      "\u001b[0;31mOSError\u001b[0m: XRootD error: [ERROR] Operation expired\nin file root://eospublic.cern.ch//eos/opendata/cms/datascience/HiggsToBBNtupleProducerTool/HiggsToBBNTuple_HiggsToBB_QCD_RunII_13TeV_MC/train/ntuple_merged_10.root"
     ]
    }
   ],
   "source": [
    "ftrs_2_ak = tree.arrays(ftrs_2, library='ak')\n",
    "ftrs_2_ak = ak.pad_none(ftrs_2_ak, axis=1, target=60, clip=True)\n",
    "ftrs_2_ak = ak.fill_none(ftrs_2_ak, axis=1, value=0.0)\n",
    "\n",
    "ftrs_2_arr = np.zeros(shape=(200000, len(ftrs_2), 60), dtype=float)\n",
    "for i, field in enumerate(ftrs_2_ak.fields):\n",
    "    ftrs_2_arr[:,i] = ftrs_2_ak[field].to_numpy()"
   ]
  },
  {
   "cell_type": "code",
   "execution_count": null,
   "metadata": {},
   "outputs": [],
   "source": [
    "training_data.create_dataset(\"training_2\", data=ftrs_2_arr)"
   ]
  },
  {
   "cell_type": "markdown",
   "metadata": {},
   "source": [
    "Creating dataset for training feature group 3"
   ]
  },
  {
   "cell_type": "code",
   "execution_count": null,
   "metadata": {},
   "outputs": [],
   "source": [
    "ftrs_3_ak = tree.arrays(ftrs_3, library='ak')\n",
    "ftrs_3_ak = ak.pad_none(ftrs_3_ak, axis=1, target=5, clip=True)\n",
    "ftrs_3_ak = ak.fill_none(ftrs_3_ak, axis=1, value=0.0)\n",
    "\n",
    "ftrs_3_arr = np.zeros(shape=(200000, len(ftrs_3), 5), dtype=float)\n",
    "for i, field in enumerate(ftrs_3_ak.fields):\n",
    "    ftrs_3_arr[:,i] = ftrs_3_ak[field].to_numpy()"
   ]
  },
  {
   "cell_type": "code",
   "execution_count": null,
   "metadata": {},
   "outputs": [],
   "source": [
    "training_data.create_dataset(\"training_3\", data=ftrs_3_arr)"
   ]
  },
  {
   "cell_type": "markdown",
   "metadata": {},
   "source": [
    "Creating dataset for spectator"
   ]
  },
  {
   "cell_type": "code",
   "execution_count": null,
   "metadata": {},
   "outputs": [],
   "source": [
    "specs = ['fj_pt',\n",
    "                          'fj_eta',\n",
    "                          'fj_sdmass',\n",
    "                          'fj_n_sdsubjets',\n",
    "                          'fj_doubleb',\n",
    "                          'fj_tau21',\n",
    "                          'fj_tau32',\n",
    "                          'npv',\n",
    "                          'npfcands',\n",
    "                          'ntracks',\n",
    "                          'nsv'\n",
    "                      ]"
   ]
  },
  {
   "cell_type": "code",
   "execution_count": null,
   "metadata": {},
   "outputs": [],
   "source": [
    "specs_arr = tree.arrays(specs)\n",
    "specs_arr = ak.values_astype(specs_arr, float)\n",
    "spec_data.create_dataset(\"spectators\", data=specs_arr)"
   ]
  },
  {
   "cell_type": "markdown",
   "metadata": {},
   "source": [
    "Creating dataset for target"
   ]
  },
  {
   "cell_type": "code",
   "execution_count": null,
   "metadata": {},
   "outputs": [],
   "source": []
  },
  {
   "cell_type": "code",
   "execution_count": null,
   "metadata": {},
   "outputs": [],
   "source": []
  },
  {
   "cell_type": "code",
   "execution_count": null,
   "metadata": {},
   "outputs": [],
   "source": []
  }
 ],
 "metadata": {
  "kernelspec": {
   "display_name": "Python 3 (ipykernel)",
   "language": "python",
   "name": "python3"
  },
  "language_info": {
   "codemirror_mode": {
    "name": "ipython",
    "version": 3
   },
   "file_extension": ".py",
   "mimetype": "text/x-python",
   "name": "python",
   "nbconvert_exporter": "python",
   "pygments_lexer": "ipython3",
   "version": "3.10.4"
  }
 },
 "nbformat": 4,
 "nbformat_minor": 4
}
