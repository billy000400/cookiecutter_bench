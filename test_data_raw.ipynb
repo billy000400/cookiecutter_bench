{
 "cells": [
  {
   "cell_type": "code",
   "execution_count": 1,
   "metadata": {},
   "outputs": [],
   "source": [
    "import sys\n",
    "import urllib.request\n",
    "from pathlib import Path\n",
    "from tqdm import tqdm\n",
    "import numpy as np\n",
    "import uproot\n",
    "import awkward as ak\n",
    "import h5py"
   ]
  },
  {
   "cell_type": "code",
   "execution_count": 2,
   "metadata": {},
   "outputs": [],
   "source": [
    "# prepare the dir for raw data\n",
    "cwd = Path.cwd()\n",
    "data_raw_dir = cwd.joinpath(\"test_data/raw\")\n",
    "data_raw_dir.mkdir(parents=True, exist_ok=True)\n",
    "\n",
    "# get the list of root files\n",
    "trainList_url = \"http://opendata.cern.ch/record/12102/files/HiggsToBBNTuple_HiggsToBB_QCD_RunII_13TeV_MC_test_root_file_index.txt\"\n",
    "testList_url = \"http://opendata.cern.ch/record/12102/files/HiggsToBBNTuple_HiggsToBB_QCD_RunII_13TeV_MC_train_root_file_index.txt\"\n",
    "trainList = urllib.request.urlopen(trainList_url).read().decode('utf-8').split(\"\\n\")\n",
    "testList = urllib.request.urlopen(testList_url).read().decode('utf-8').split(\"\\n\")\n",
    "# rm empty entry\n",
    "trainList = [url for url in trainList if url]\n",
    "testList = [url for url in testList if url]\n"
   ]
  },
  {
   "cell_type": "code",
   "execution_count": 3,
   "metadata": {},
   "outputs": [],
   "source": [
    "url = testList[0]"
   ]
  },
  {
   "cell_type": "code",
   "execution_count": 4,
   "metadata": {
    "scrolled": false
   },
   "outputs": [
    {
     "name": "stderr",
     "output_type": "stream",
     "text": [
      "Plugin No such file or directory loading sec.protocol libXrdSeckrb5-5.so\n"
     ]
    }
   ],
   "source": [
    "# prepare target file\n",
    "h5_name = url.rsplit('/', 1)[1].split('.')[0]+'.h5'\n",
    "h5_path = data_raw_dir.joinpath(h5_name)  \n",
    "h5_f = h5py.File(str(h5_path), 'w')\n",
    "\n",
    "# open and read root files online\n",
    "root_f = uproot.open(url)\n",
    "tree = root_f['deepntuplizer/tree']\n",
    "keys = tree.keys()\n",
    "\n",
    "# prepare number cuts on pfcand, track, and sv\n",
    "ncuts = {}\n",
    "ncuts['pfcand']=100\n",
    "ncuts['track']=60\n",
    "ncuts['sv']=5\n",
    "\n",
    "# fill branches into dataset\n",
    "for k in keys:\n",
    "    try:\n",
    "        # get maximum number\n",
    "        arr = tree[k].array(library='ak')\n",
    "        if arr.ndim == 1:\n",
    "            h5_f.create_dataset(k, data=arr)\n",
    "        else:\n",
    "            maxobj = ak.max(ak.num(arr, axis=1))\n",
    "            special_keys = ncuts.keys()\n",
    "            for sk in special_keys:\n",
    "                if k in sk:\n",
    "                    maxobj = ncuts[sk]\n",
    "            # zero padding\n",
    "            arr = ak.pad_none(arr, target=maxobj, clip=True)\n",
    "            arr = ak.fill_none(arr, 0).to_numpy().astype(np.float16)\n",
    "            h5_f.create_dataset(k, data=arr)\n",
    "    except Exception as e:\n",
    "        print(arr.ndim)\n",
    "        print(arr.dtype)\n",
    "        print(f\"{k} has an error {e}\")\n",
    "        \n",
    "# close the file\n",
    "h5_f.close()"
   ]
  },
  {
   "cell_type": "code",
   "execution_count": null,
   "metadata": {},
   "outputs": [],
   "source": []
  },
  {
   "cell_type": "code",
   "execution_count": null,
   "metadata": {},
   "outputs": [],
   "source": []
  }
 ],
 "metadata": {
  "kernelspec": {
   "display_name": "Python 3 (ipykernel)",
   "language": "python",
   "name": "python3"
  },
  "language_info": {
   "codemirror_mode": {
    "name": "ipython",
    "version": 3
   },
   "file_extension": ".py",
   "mimetype": "text/x-python",
   "name": "python",
   "nbconvert_exporter": "python",
   "pygments_lexer": "ipython3",
   "version": "3.10.4"
  }
 },
 "nbformat": 4,
 "nbformat_minor": 4
}
